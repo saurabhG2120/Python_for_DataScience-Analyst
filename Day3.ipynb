{
 "cells": [
  {
   "cell_type": "markdown",
   "id": "9e2cde9e-fb60-427d-882c-059b50c10971",
   "metadata": {},
   "source": [
    "## list indexing and manipulation"
   ]
  },
  {
   "cell_type": "code",
   "execution_count": 2,
   "id": "09f49feb",
   "metadata": {},
   "outputs": [],
   "source": [
    "names = [\"sara\", \"chanel\", \"mike\", \"ryan\", \"holy\", \"alex\", \"rob\"]"
   ]
  },
  {
   "cell_type": "code",
   "execution_count": 3,
   "id": "52ab45a5",
   "metadata": {},
   "outputs": [
    {
     "name": "stdout",
     "output_type": "stream",
     "text": [
      "sara\n"
     ]
    }
   ],
   "source": [
    "print(names[0])\n",
    "#0 stands for 1st element in the list "
   ]
  },
  {
   "cell_type": "code",
   "execution_count": 4,
   "id": "4b5a1c80",
   "metadata": {},
   "outputs": [
    {
     "name": "stdout",
     "output_type": "stream",
     "text": [
      "chanel\n"
     ]
    }
   ],
   "source": [
    "print(names[1])"
   ]
  },
  {
   "cell_type": "code",
   "execution_count": 5,
   "id": "8f28b083",
   "metadata": {},
   "outputs": [
    {
     "name": "stdout",
     "output_type": "stream",
     "text": [
      "alex\n"
     ]
    }
   ],
   "source": [
    "print(names[5])"
   ]
  },
  {
   "cell_type": "code",
   "execution_count": 6,
   "id": "ce67ce33",
   "metadata": {},
   "outputs": [
    {
     "name": "stdout",
     "output_type": "stream",
     "text": [
      "rob\n"
     ]
    }
   ],
   "source": [
    "print(names[-1]) #-1 stands for last element in the list "
   ]
  },
  {
   "cell_type": "code",
   "execution_count": 7,
   "id": "26758adb",
   "metadata": {},
   "outputs": [
    {
     "name": "stdout",
     "output_type": "stream",
     "text": [
      "['sara', 'chanel', 'mike', 'ryan', 'holy', 'alex', 'rob']\n"
     ]
    }
   ],
   "source": [
    "print(names)"
   ]
  },
  {
   "cell_type": "code",
   "execution_count": 8,
   "id": "f7091e63",
   "metadata": {},
   "outputs": [
    {
     "name": "stdout",
     "output_type": "stream",
     "text": [
      "['sara', 'chanel', 'mike']\n"
     ]
    }
   ],
   "source": [
    "print(names[0:3])\n",
    "#[0:3] means start from 0th index till 3rd index "
   ]
  },
  {
   "cell_type": "code",
   "execution_count": 9,
   "id": "b76560d0",
   "metadata": {},
   "outputs": [],
   "source": [
    "names = [\"sara\", \"chanel\", \"mitch\", \"ryan\", \"holy\", \"alex\", \"rob\"]"
   ]
  },
  {
   "cell_type": "code",
   "execution_count": 10,
   "id": "afadb0a1",
   "metadata": {},
   "outputs": [
    {
     "name": "stdout",
     "output_type": "stream",
     "text": [
      "['sara', 'chanel', 'mitch', 'ryan', 'holy', 'alex', 'rob']\n"
     ]
    }
   ],
   "source": [
    "print(names)"
   ]
  },
  {
   "cell_type": "code",
   "execution_count": 11,
   "id": "ca306458",
   "metadata": {},
   "outputs": [
    {
     "name": "stdout",
     "output_type": "stream",
     "text": [
      "['chanel', 'mitch', 'ryan']\n"
     ]
    }
   ],
   "source": [
    "print(names[1:4])"
   ]
  },
  {
   "cell_type": "code",
   "execution_count": 12,
   "id": "a3d35a5f",
   "metadata": {},
   "outputs": [
    {
     "name": "stdout",
     "output_type": "stream",
     "text": [
      "['sara', 'chanel', 'mitch']\n"
     ]
    }
   ],
   "source": [
    "print(names[0:3])"
   ]
  },
  {
   "cell_type": "code",
   "execution_count": 13,
   "id": "f61052ab",
   "metadata": {},
   "outputs": [
    {
     "name": "stdout",
     "output_type": "stream",
     "text": [
      "['holy', 'alex', 'rob']\n"
     ]
    }
   ],
   "source": [
    "print(names[-3:])"
   ]
  },
  {
   "cell_type": "code",
   "execution_count": 14,
   "id": "be1ef1d9",
   "metadata": {},
   "outputs": [
    {
     "name": "stdout",
     "output_type": "stream",
     "text": [
      "['sara', 'ryan']\n"
     ]
    }
   ],
   "source": [
    "print(names[0:4:3])"
   ]
  },
  {
   "cell_type": "code",
   "execution_count": 15,
   "id": "4bc38f8d",
   "metadata": {},
   "outputs": [],
   "source": [
    "a=\"saurabh\""
   ]
  },
  {
   "cell_type": "code",
   "execution_count": 16,
   "id": "c0e07a91",
   "metadata": {},
   "outputs": [
    {
     "data": {
      "text/plain": [
       "7"
      ]
     },
     "execution_count": 16,
     "metadata": {},
     "output_type": "execute_result"
    }
   ],
   "source": [
    "len(a)"
   ]
  },
  {
   "cell_type": "code",
   "execution_count": 17,
   "id": "33296ebf",
   "metadata": {},
   "outputs": [],
   "source": [
    "my_list = [\"Mitch\", [\"sara\", \"sally\", \"joe\"], \"peter\", \"aly\"]"
   ]
  },
  {
   "cell_type": "code",
   "execution_count": 18,
   "id": "df50c4be",
   "metadata": {},
   "outputs": [
    {
     "name": "stdout",
     "output_type": "stream",
     "text": [
      "sally\n"
     ]
    }
   ],
   "source": [
    "print(my_list[1][1])"
   ]
  },
  {
   "cell_type": "code",
   "execution_count": 19,
   "id": "fda4b8f8",
   "metadata": {},
   "outputs": [
    {
     "name": "stdout",
     "output_type": "stream",
     "text": [
      "['sara', 'sally', 'joe']\n"
     ]
    }
   ],
   "source": [
    "print(my_list[1][0:])"
   ]
  },
  {
   "cell_type": "code",
   "execution_count": 20,
   "id": "766c9f32",
   "metadata": {},
   "outputs": [
    {
     "name": "stdout",
     "output_type": "stream",
     "text": [
      "aly\n"
     ]
    }
   ],
   "source": [
    "print(my_list[-1])"
   ]
  },
  {
   "cell_type": "code",
   "execution_count": 21,
   "id": "853c2f56",
   "metadata": {},
   "outputs": [
    {
     "name": "stdout",
     "output_type": "stream",
     "text": [
      "['Mitch', 'aly']\n"
     ]
    }
   ],
   "source": [
    "print(my_list[0:len(my_list):3])"
   ]
  },
  {
   "cell_type": "code",
   "execution_count": 22,
   "id": "5e8fd1fb",
   "metadata": {},
   "outputs": [
    {
     "name": "stdout",
     "output_type": "stream",
     "text": [
      "['aly']\n"
     ]
    }
   ],
   "source": [
    "print(my_list[3:])"
   ]
  },
  {
   "cell_type": "code",
   "execution_count": 23,
   "id": "9ea21316",
   "metadata": {},
   "outputs": [],
   "source": [
    "my_list = [\"Mitch\", [\"sara\", \"sally\", \"joe\"], \"peter\", \"aly\"]"
   ]
  },
  {
   "cell_type": "code",
   "execution_count": 24,
   "id": "9cbafca2",
   "metadata": {},
   "outputs": [
    {
     "data": {
      "text/plain": [
       "4"
      ]
     },
     "execution_count": 24,
     "metadata": {},
     "output_type": "execute_result"
    }
   ],
   "source": [
    "len(my_list)"
   ]
  },
  {
   "cell_type": "code",
   "execution_count": 25,
   "id": "7e93a5c4",
   "metadata": {},
   "outputs": [],
   "source": [
    "my_list.append(\"saurabh\")"
   ]
  },
  {
   "cell_type": "code",
   "execution_count": 26,
   "id": "2b9a9582",
   "metadata": {},
   "outputs": [
    {
     "data": {
      "text/plain": [
       "['Mitch', ['sara', 'sally', 'joe'], 'peter', 'aly', 'saurabh']"
      ]
     },
     "execution_count": 26,
     "metadata": {},
     "output_type": "execute_result"
    }
   ],
   "source": [
    "my_list"
   ]
  },
  {
   "cell_type": "code",
   "execution_count": 27,
   "id": "35f7a62e",
   "metadata": {},
   "outputs": [
    {
     "data": {
      "text/plain": [
       "5"
      ]
     },
     "execution_count": 27,
     "metadata": {},
     "output_type": "execute_result"
    }
   ],
   "source": [
    "len(my_list)\n"
   ]
  },
  {
   "cell_type": "code",
   "execution_count": 28,
   "id": "2602f0cc",
   "metadata": {},
   "outputs": [],
   "source": [
    "my_list = [\"Mitch\", [\"sara\", \"sally\", \"joe\"], \"peter\", \"aly\"]"
   ]
  },
  {
   "cell_type": "code",
   "execution_count": 29,
   "id": "af6479b8",
   "metadata": {},
   "outputs": [],
   "source": [
    "my_list.remove(\"peter\")"
   ]
  },
  {
   "cell_type": "code",
   "execution_count": 30,
   "id": "c8890dbb",
   "metadata": {},
   "outputs": [
    {
     "data": {
      "text/plain": [
       "['Mitch', ['sara', 'sally', 'joe'], 'aly']"
      ]
     },
     "execution_count": 30,
     "metadata": {},
     "output_type": "execute_result"
    }
   ],
   "source": [
    "my_list"
   ]
  },
  {
   "cell_type": "code",
   "execution_count": 31,
   "id": "25c42a21",
   "metadata": {},
   "outputs": [
    {
     "data": {
      "text/plain": [
       "'aly'"
      ]
     },
     "execution_count": 31,
     "metadata": {},
     "output_type": "execute_result"
    }
   ],
   "source": [
    "my_list.pop(-1)"
   ]
  },
  {
   "cell_type": "code",
   "execution_count": 32,
   "id": "8be0bc34",
   "metadata": {},
   "outputs": [
    {
     "data": {
      "text/plain": [
       "['Mitch', ['sara', 'sally', 'joe']]"
      ]
     },
     "execution_count": 32,
     "metadata": {},
     "output_type": "execute_result"
    }
   ],
   "source": [
    "my_list"
   ]
  },
  {
   "cell_type": "code",
   "execution_count": 33,
   "id": "83f857dd",
   "metadata": {},
   "outputs": [],
   "source": [
    "del my_list[0]"
   ]
  },
  {
   "cell_type": "code",
   "execution_count": 34,
   "id": "dc61528c",
   "metadata": {},
   "outputs": [
    {
     "data": {
      "text/plain": [
       "[['sara', 'sally', 'joe']]"
      ]
     },
     "execution_count": 34,
     "metadata": {},
     "output_type": "execute_result"
    }
   ],
   "source": [
    "my_list\n"
   ]
  },
  {
   "cell_type": "code",
   "execution_count": 35,
   "id": "abc365ab",
   "metadata": {},
   "outputs": [],
   "source": [
    "my_list = [50, 20, 30, 10, 40, 15, 45]"
   ]
  },
  {
   "cell_type": "code",
   "execution_count": 36,
   "id": "21bb45fe",
   "metadata": {},
   "outputs": [],
   "source": [
    "my_list.sort(reverse=True)"
   ]
  },
  {
   "cell_type": "code",
   "execution_count": 37,
   "id": "ff76650c",
   "metadata": {},
   "outputs": [
    {
     "data": {
      "text/plain": [
       "[50, 45, 40, 30, 20, 15, 10]"
      ]
     },
     "execution_count": 37,
     "metadata": {},
     "output_type": "execute_result"
    }
   ],
   "source": [
    "my_list"
   ]
  },
  {
   "cell_type": "code",
   "execution_count": 38,
   "id": "23e16547",
   "metadata": {},
   "outputs": [],
   "source": [
    "my_list.reverse()"
   ]
  },
  {
   "cell_type": "code",
   "execution_count": 39,
   "id": "caafacb0",
   "metadata": {},
   "outputs": [
    {
     "data": {
      "text/plain": [
       "[10, 15, 20, 30, 40, 45, 50]"
      ]
     },
     "execution_count": 39,
     "metadata": {},
     "output_type": "execute_result"
    }
   ],
   "source": [
    "my_list"
   ]
  },
  {
   "cell_type": "code",
   "execution_count": 40,
   "id": "84c8b38f",
   "metadata": {},
   "outputs": [],
   "source": [
    "grocery_list = [['chips','jelly','chocolate'],['sweet potatoes','potatoes'],['peanuts','protein bar']]"
   ]
  },
  {
   "cell_type": "code",
   "execution_count": 41,
   "id": "d938900e",
   "metadata": {},
   "outputs": [],
   "source": [
    "last_element=['choclate','potatoes','protein bar']"
   ]
  },
  {
   "cell_type": "code",
   "execution_count": 42,
   "id": "3a3a06ff",
   "metadata": {},
   "outputs": [
    {
     "data": {
      "text/plain": [
       "['choclate', 'potatoes', 'protein bar']"
      ]
     },
     "execution_count": 42,
     "metadata": {},
     "output_type": "execute_result"
    }
   ],
   "source": [
    "last_element"
   ]
  },
  {
   "cell_type": "code",
   "execution_count": 43,
   "id": "dd53546f",
   "metadata": {},
   "outputs": [],
   "source": [
    "grocery_list = [['chips','jelly','chocolate'],['sweet potatoes','potatoes'],['peanuts','protein bar']]"
   ]
  },
  {
   "cell_type": "code",
   "execution_count": 44,
   "id": "92b9b018",
   "metadata": {},
   "outputs": [],
   "source": [
    "new_list = []"
   ]
  },
  {
   "cell_type": "code",
   "execution_count": 45,
   "id": "9cc089a6",
   "metadata": {},
   "outputs": [],
   "source": [
    "new_list.append(grocery_list[0][-1])"
   ]
  },
  {
   "cell_type": "code",
   "execution_count": 46,
   "id": "818058ac",
   "metadata": {},
   "outputs": [],
   "source": [
    "new_list.append(grocery_list[1][-1])"
   ]
  },
  {
   "cell_type": "code",
   "execution_count": 47,
   "id": "52384705",
   "metadata": {},
   "outputs": [],
   "source": [
    "new_list.append(grocery_list[2][-1])"
   ]
  },
  {
   "cell_type": "code",
   "execution_count": 48,
   "id": "af58c95a",
   "metadata": {},
   "outputs": [
    {
     "data": {
      "text/plain": [
       "['chocolate', 'potatoes', 'protein bar']"
      ]
     },
     "execution_count": 48,
     "metadata": {},
     "output_type": "execute_result"
    }
   ],
   "source": [
    "new_list"
   ]
  },
  {
   "cell_type": "code",
   "execution_count": 49,
   "id": "f48ac3ab",
   "metadata": {},
   "outputs": [
    {
     "data": {
      "text/plain": [
       "list"
      ]
     },
     "execution_count": 49,
     "metadata": {},
     "output_type": "execute_result"
    }
   ],
   "source": [
    "type(new_list)"
   ]
  }
 ],
 "metadata": {
  "kernelspec": {
   "display_name": "Python 3 (ipykernel)",
   "language": "python",
   "name": "python3"
  },
  "language_info": {
   "codemirror_mode": {
    "name": "ipython",
    "version": 3
   },
   "file_extension": ".py",
   "mimetype": "text/x-python",
   "name": "python",
   "nbconvert_exporter": "python",
   "pygments_lexer": "ipython3",
   "version": "3.12.0"
  }
 },
 "nbformat": 4,
 "nbformat_minor": 5
}
