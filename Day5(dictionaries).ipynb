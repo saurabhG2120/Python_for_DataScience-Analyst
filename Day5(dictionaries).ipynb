{
 "cells": [
  {
   "cell_type": "code",
   "execution_count": 1,
   "id": "55afa82a",
   "metadata": {},
   "outputs": [],
   "source": [
    "set={10,20,30,40,50}"
   ]
  },
  {
   "cell_type": "code",
   "execution_count": 2,
   "id": "35fc4665",
   "metadata": {},
   "outputs": [
    {
     "data": {
      "text/plain": [
       "['__and__',\n",
       " '__class__',\n",
       " '__class_getitem__',\n",
       " '__contains__',\n",
       " '__delattr__',\n",
       " '__dir__',\n",
       " '__doc__',\n",
       " '__eq__',\n",
       " '__format__',\n",
       " '__ge__',\n",
       " '__getattribute__',\n",
       " '__gt__',\n",
       " '__hash__',\n",
       " '__iand__',\n",
       " '__init__',\n",
       " '__init_subclass__',\n",
       " '__ior__',\n",
       " '__isub__',\n",
       " '__iter__',\n",
       " '__ixor__',\n",
       " '__le__',\n",
       " '__len__',\n",
       " '__lt__',\n",
       " '__ne__',\n",
       " '__new__',\n",
       " '__or__',\n",
       " '__rand__',\n",
       " '__reduce__',\n",
       " '__reduce_ex__',\n",
       " '__repr__',\n",
       " '__ror__',\n",
       " '__rsub__',\n",
       " '__rxor__',\n",
       " '__setattr__',\n",
       " '__sizeof__',\n",
       " '__str__',\n",
       " '__sub__',\n",
       " '__subclasshook__',\n",
       " '__xor__',\n",
       " 'add',\n",
       " 'clear',\n",
       " 'copy',\n",
       " 'difference',\n",
       " 'difference_update',\n",
       " 'discard',\n",
       " 'intersection',\n",
       " 'intersection_update',\n",
       " 'isdisjoint',\n",
       " 'issubset',\n",
       " 'issuperset',\n",
       " 'pop',\n",
       " 'remove',\n",
       " 'symmetric_difference',\n",
       " 'symmetric_difference_update',\n",
       " 'union',\n",
       " 'update']"
      ]
     },
     "execution_count": 2,
     "metadata": {},
     "output_type": "execute_result"
    }
   ],
   "source": [
    "dir(set)"
   ]
  },
  {
   "cell_type": "markdown",
   "id": "1bfae23e",
   "metadata": {},
   "source": [
    "Q.1. CREATE A DICTIONARY WITH 3 OF YOUR FAVOURITE FRIENDS AND THEIR RESPECTIVE AGE AND PRINT OUT THE AGE OF SECOND NAME YOU CHOOSE\n"
   ]
  },
  {
   "cell_type": "code",
   "execution_count": 9,
   "id": "b81ef200",
   "metadata": {},
   "outputs": [],
   "source": [
    "dict1={'siddhesh':23,\n",
    "      'sunny':23,\n",
    "      'russel':23}"
   ]
  },
  {
   "cell_type": "code",
   "execution_count": 11,
   "id": "4ef2ea57",
   "metadata": {},
   "outputs": [
    {
     "data": {
      "text/plain": [
       "{'siddhesh': 23, 'sunny': 23, 'russel': 23}"
      ]
     },
     "execution_count": 11,
     "metadata": {},
     "output_type": "execute_result"
    }
   ],
   "source": [
    "dict1"
   ]
  },
  {
   "cell_type": "code",
   "execution_count": 16,
   "id": "4a7f7687",
   "metadata": {},
   "outputs": [
    {
     "data": {
      "text/plain": [
       "23"
      ]
     },
     "execution_count": 16,
     "metadata": {},
     "output_type": "execute_result"
    }
   ],
   "source": [
    "dict1['sunny']"
   ]
  },
  {
   "cell_type": "markdown",
   "id": "09e8e203",
   "metadata": {},
   "source": [
    "Q.2. CREATE A DICTIONARY WITH 3 OF YOUR FAVOURITE FRIENDS AND THEIR RESPECTIVE HOURLY WAGE AND OBTAIN THE AVERAGE OF ALL THEIR SALARIES"
   ]
  },
  {
   "cell_type": "code",
   "execution_count": 17,
   "id": "4a8365ed",
   "metadata": {},
   "outputs": [
    {
     "data": {
      "text/plain": [
       "['__class__',\n",
       " '__class_getitem__',\n",
       " '__contains__',\n",
       " '__delattr__',\n",
       " '__delitem__',\n",
       " '__dir__',\n",
       " '__doc__',\n",
       " '__eq__',\n",
       " '__format__',\n",
       " '__ge__',\n",
       " '__getattribute__',\n",
       " '__getitem__',\n",
       " '__gt__',\n",
       " '__hash__',\n",
       " '__init__',\n",
       " '__init_subclass__',\n",
       " '__ior__',\n",
       " '__iter__',\n",
       " '__le__',\n",
       " '__len__',\n",
       " '__lt__',\n",
       " '__ne__',\n",
       " '__new__',\n",
       " '__or__',\n",
       " '__reduce__',\n",
       " '__reduce_ex__',\n",
       " '__repr__',\n",
       " '__reversed__',\n",
       " '__ror__',\n",
       " '__setattr__',\n",
       " '__setitem__',\n",
       " '__sizeof__',\n",
       " '__str__',\n",
       " '__subclasshook__',\n",
       " 'clear',\n",
       " 'copy',\n",
       " 'fromkeys',\n",
       " 'get',\n",
       " 'items',\n",
       " 'keys',\n",
       " 'pop',\n",
       " 'popitem',\n",
       " 'setdefault',\n",
       " 'update',\n",
       " 'values']"
      ]
     },
     "execution_count": 17,
     "metadata": {},
     "output_type": "execute_result"
    }
   ],
   "source": [
    "dir(dict1)"
   ]
  },
  {
   "cell_type": "code",
   "execution_count": 18,
   "id": "16fe09b2",
   "metadata": {},
   "outputs": [],
   "source": [
    "dict2={'siddhesh':230,\n",
    "      'sunny':250,\n",
    "      'russel':800}"
   ]
  },
  {
   "cell_type": "code",
   "execution_count": 20,
   "id": "a8c3f551",
   "metadata": {},
   "outputs": [],
   "source": [
    "avg=sum(dict2.values())/len(dict2)"
   ]
  },
  {
   "cell_type": "code",
   "execution_count": 23,
   "id": "42345975",
   "metadata": {},
   "outputs": [
    {
     "name": "stdout",
     "output_type": "stream",
     "text": [
      "avg is:426.6666666666667\n"
     ]
    }
   ],
   "source": [
    "print('avg is:'+ str(avg))"
   ]
  },
  {
   "cell_type": "code",
   "execution_count": 24,
   "id": "6a93f4c5",
   "metadata": {},
   "outputs": [
    {
     "data": {
      "text/plain": [
       "427"
      ]
     },
     "execution_count": 24,
     "metadata": {},
     "output_type": "execute_result"
    }
   ],
   "source": [
    "round(avg)"
   ]
  },
  {
   "cell_type": "markdown",
   "id": "e88dead7",
   "metadata": {},
   "source": [
    "Q.3. UPDATE THE PREVIOUS DICTIONARY WITH TWO OF YOUR NEXT FAVOURITE FRIENDS AND THEIR RESPECTIVE SALARIES AND OBTAIN THE AVERAGE OF ALL THEIR SALARIES "
   ]
  },
  {
   "cell_type": "code",
   "execution_count": 26,
   "id": "661da6c7",
   "metadata": {},
   "outputs": [],
   "source": [
    "dict2['ashish']=280"
   ]
  },
  {
   "cell_type": "code",
   "execution_count": 28,
   "id": "05855c58",
   "metadata": {},
   "outputs": [],
   "source": [
    "dict2['manish']=100"
   ]
  },
  {
   "cell_type": "code",
   "execution_count": 31,
   "id": "86b6dee4",
   "metadata": {},
   "outputs": [],
   "source": [
    "avg=sum(dict2.values())/len(dict2)"
   ]
  },
  {
   "cell_type": "code",
   "execution_count": 32,
   "id": "033f22d6",
   "metadata": {},
   "outputs": [
    {
     "name": "stdout",
     "output_type": "stream",
     "text": [
      "332.0\n"
     ]
    }
   ],
   "source": [
    "print(avg)"
   ]
  },
  {
   "cell_type": "code",
   "execution_count": 33,
   "id": "b020bb70",
   "metadata": {},
   "outputs": [
    {
     "data": {
      "text/plain": [
       "{'siddhesh': 230, 'sunny': 250, 'russel': 800, 'ashish': 280, 'manish': 100}"
      ]
     },
     "execution_count": 33,
     "metadata": {},
     "output_type": "execute_result"
    }
   ],
   "source": [
    "dict2"
   ]
  },
  {
   "cell_type": "markdown",
   "id": "6fbc3855",
   "metadata": {},
   "source": [
    "Q.4. WRITE A CODE THAT MULTIPLIES ALL THE ELEMENTS IN THE FOLLOWING DICTIONARY\n",
    "my_dict = {'data1':500,\n",
    "           'data2':-10,\n",
    "           'data3':300}"
   ]
  },
  {
   "cell_type": "code",
   "execution_count": 73,
   "id": "64686653",
   "metadata": {},
   "outputs": [],
   "source": [
    "my_dict = {'data1':500, 'data2':-10, 'data3':300}"
   ]
  },
  {
   "cell_type": "code",
   "execution_count": 74,
   "id": "64b820b9",
   "metadata": {},
   "outputs": [],
   "source": [
    "ans=1"
   ]
  },
  {
   "cell_type": "code",
   "execution_count": 79,
   "id": "6e0eb34c",
   "metadata": {},
   "outputs": [],
   "source": [
    "ans=ans*my_dict['data1']\n",
    "ans=ans*my_dict['data2']\n",
    "ans=ans*my_dict['data3']\n"
   ]
  },
  {
   "cell_type": "code",
   "execution_count": 76,
   "id": "03a7d2a0",
   "metadata": {},
   "outputs": [
    {
     "name": "stdout",
     "output_type": "stream",
     "text": [
      "-1500000\n"
     ]
    }
   ],
   "source": [
    "print(ans)"
   ]
  },
  {
   "cell_type": "code",
   "execution_count": 87,
   "id": "4b4b2b9e",
   "metadata": {},
   "outputs": [],
   "source": [
    "def mul(a):\n",
    "    x=1\n",
    "    for i in a.values():\n",
    "        x = x * i\n",
    "        \n",
    "    \n",
    "    return x \n",
    "        \n",
    "\n",
    "\n",
    "    \n",
    "    "
   ]
  },
  {
   "cell_type": "code",
   "execution_count": 88,
   "id": "6450dd93",
   "metadata": {},
   "outputs": [
    {
     "data": {
      "text/plain": [
       "-1500000"
      ]
     },
     "execution_count": 88,
     "metadata": {},
     "output_type": "execute_result"
    }
   ],
   "source": [
    "mul(my_dict)"
   ]
  },
  {
   "cell_type": "code",
   "execution_count": null,
   "id": "560e1c84",
   "metadata": {},
   "outputs": [],
   "source": []
  },
  {
   "cell_type": "code",
   "execution_count": null,
   "id": "94fd8b2e",
   "metadata": {},
   "outputs": [],
   "source": []
  }
 ],
 "metadata": {
  "kernelspec": {
   "display_name": "Python 3 (ipykernel)",
   "language": "python",
   "name": "python3"
  },
  "language_info": {
   "codemirror_mode": {
    "name": "ipython",
    "version": 3
   },
   "file_extension": ".py",
   "mimetype": "text/x-python",
   "name": "python",
   "nbconvert_exporter": "python",
   "pygments_lexer": "ipython3",
   "version": "3.11.5"
  }
 },
 "nbformat": 4,
 "nbformat_minor": 5
}
