{
 "cells": [
  {
   "cell_type": "markdown",
   "id": "56aa5506",
   "metadata": {},
   "source": [
    "# tuples,list&set functions and manipulation"
   ]
  },
  {
   "cell_type": "code",
   "execution_count": 2,
   "id": "26ff1156",
   "metadata": {},
   "outputs": [
    {
     "name": "stdout",
     "output_type": "stream",
     "text": [
      "Hello\n"
     ]
    }
   ],
   "source": [
    "print('Hello')"
   ]
  },
  {
   "cell_type": "code",
   "execution_count": 3,
   "id": "d6f9ee39",
   "metadata": {},
   "outputs": [],
   "source": [
    "a=('saurabh',23)"
   ]
  },
  {
   "cell_type": "code",
   "execution_count": 4,
   "id": "19e6cb8a",
   "metadata": {},
   "outputs": [
    {
     "data": {
      "text/plain": [
       "('saurabh', 23)"
      ]
     },
     "execution_count": 4,
     "metadata": {},
     "output_type": "execute_result"
    }
   ],
   "source": [
    "a"
   ]
  },
  {
   "cell_type": "code",
   "execution_count": 5,
   "id": "c48dcb38",
   "metadata": {},
   "outputs": [
    {
     "name": "stdout",
     "output_type": "stream",
     "text": [
      "hello ('saurabh', 23)\n"
     ]
    }
   ],
   "source": [
    "print('hello',a)"
   ]
  },
  {
   "cell_type": "code",
   "execution_count": 6,
   "id": "7ff67cd9",
   "metadata": {},
   "outputs": [
    {
     "name": "stdout",
     "output_type": "stream",
     "text": [
      "hello my name is ('saurabh', 23)\n"
     ]
    }
   ],
   "source": [
    "print('hello my name is {}'.format(a))"
   ]
  },
  {
   "cell_type": "code",
   "execution_count": 7,
   "id": "4df7af94",
   "metadata": {},
   "outputs": [],
   "source": [
    "b=('abc',21)"
   ]
  },
  {
   "cell_type": "code",
   "execution_count": 8,
   "id": "c50531e9",
   "metadata": {},
   "outputs": [
    {
     "data": {
      "text/plain": [
       "tuple"
      ]
     },
     "execution_count": 8,
     "metadata": {},
     "output_type": "execute_result"
    }
   ],
   "source": [
    "type(b)"
   ]
  },
  {
   "cell_type": "code",
   "execution_count": 9,
   "id": "903c9a43",
   "metadata": {},
   "outputs": [
    {
     "name": "stdout",
     "output_type": "stream",
     "text": [
      "hello my name abc and im 21 \n"
     ]
    }
   ],
   "source": [
    "print('hello my name {} and im {} '.format(b[0],b[1]))"
   ]
  },
  {
   "cell_type": "code",
   "execution_count": 10,
   "id": "9ec1dec6",
   "metadata": {},
   "outputs": [],
   "source": [
    "tuple1=(\"saurabh\",\"sunny\",'sid')"
   ]
  },
  {
   "cell_type": "raw",
   "id": "0c928073",
   "metadata": {},
   "source": [
    "print(tuple1)"
   ]
  },
  {
   "cell_type": "code",
   "execution_count": 11,
   "id": "547bd217",
   "metadata": {},
   "outputs": [
    {
     "data": {
      "text/plain": [
       "tuple"
      ]
     },
     "execution_count": 11,
     "metadata": {},
     "output_type": "execute_result"
    }
   ],
   "source": [
    "type(tuple1)"
   ]
  },
  {
   "cell_type": "code",
   "execution_count": 12,
   "id": "1fc66aea",
   "metadata": {},
   "outputs": [
    {
     "name": "stdout",
     "output_type": "stream",
     "text": [
      "('saurabh', 'sunny', 'sid')\n"
     ]
    }
   ],
   "source": [
    "print(tuple1)"
   ]
  },
  {
   "cell_type": "code",
   "execution_count": 13,
   "id": "c7fd4e32",
   "metadata": {},
   "outputs": [
    {
     "name": "stdout",
     "output_type": "stream",
     "text": [
      "sid\n"
     ]
    }
   ],
   "source": [
    "print(tuple1[-1])"
   ]
  },
  {
   "cell_type": "code",
   "execution_count": 14,
   "id": "2c153953",
   "metadata": {},
   "outputs": [
    {
     "name": "stdout",
     "output_type": "stream",
     "text": [
      "('saurabh', 'sunny')\n"
     ]
    }
   ],
   "source": [
    "print(tuple1[0:2])"
   ]
  },
  {
   "cell_type": "code",
   "execution_count": 15,
   "id": "4df866e2",
   "metadata": {},
   "outputs": [
    {
     "name": "stdout",
     "output_type": "stream",
     "text": [
      "('saurabh', 'sunny')\n"
     ]
    }
   ],
   "source": [
    "print(tuple1[:2])"
   ]
  },
  {
   "cell_type": "code",
   "execution_count": 16,
   "id": "5189142a",
   "metadata": {},
   "outputs": [],
   "source": [
    "tuple2=('Saurabh','Gavali',23)"
   ]
  },
  {
   "cell_type": "code",
   "execution_count": 17,
   "id": "363fe1e5",
   "metadata": {},
   "outputs": [
    {
     "data": {
      "text/plain": [
       "tuple"
      ]
     },
     "execution_count": 17,
     "metadata": {},
     "output_type": "execute_result"
    }
   ],
   "source": [
    "type(tuple2)"
   ]
  },
  {
   "cell_type": "code",
   "execution_count": 18,
   "id": "53e8bfc4",
   "metadata": {},
   "outputs": [
    {
     "data": {
      "text/plain": [
       "3"
      ]
     },
     "execution_count": 18,
     "metadata": {},
     "output_type": "execute_result"
    }
   ],
   "source": [
    "len(tuple2)"
   ]
  },
  {
   "cell_type": "code",
   "execution_count": 19,
   "id": "caeeec53",
   "metadata": {},
   "outputs": [],
   "source": [
    "my_tuple = (\"hello\", [87, 40, 60], \"world\", (10, 25, 30))"
   ]
  },
  {
   "cell_type": "code",
   "execution_count": 20,
   "id": "b4f6abd4",
   "metadata": {},
   "outputs": [
    {
     "name": "stdout",
     "output_type": "stream",
     "text": [
      "40 world 25 [87, 40, 60] (10, 25, 30)\n"
     ]
    }
   ],
   "source": [
    "print(my_tuple[1][1],my_tuple[2],my_tuple[3][1],my_tuple[1],my_tuple[3])"
   ]
  },
  {
   "cell_type": "code",
   "execution_count": 21,
   "id": "f22b5117",
   "metadata": {},
   "outputs": [],
   "source": [
    "my_tuple = (40, 3, 2, [10, 4])"
   ]
  },
  {
   "cell_type": "code",
   "execution_count": 22,
   "id": "4364c3e6",
   "metadata": {},
   "outputs": [
    {
     "ename": "TypeError",
     "evalue": "'tuple' object does not support item assignment",
     "output_type": "error",
     "traceback": [
      "\u001b[1;31m---------------------------------------------------------------------------\u001b[0m",
      "\u001b[1;31mTypeError\u001b[0m                                 Traceback (most recent call last)",
      "Cell \u001b[1;32mIn[22], line 1\u001b[0m\n\u001b[1;32m----> 1\u001b[0m my_tuple[\u001b[38;5;241m2\u001b[39m] \u001b[38;5;241m=\u001b[39m \u001b[38;5;241m10\u001b[39m\n",
      "\u001b[1;31mTypeError\u001b[0m: 'tuple' object does not support item assignment"
     ]
    }
   ],
   "source": [
    "my_tuple[2] = 10 #we cannot modify tuple as it is immutable"
   ]
  },
  {
   "cell_type": "code",
   "execution_count": 23,
   "id": "ef9a8acd",
   "metadata": {},
   "outputs": [],
   "source": [
    "list1=[10,20,50,62,32,45]"
   ]
  },
  {
   "cell_type": "code",
   "execution_count": 24,
   "id": "c47a308d",
   "metadata": {},
   "outputs": [],
   "source": [
    "list1[2]=60"
   ]
  },
  {
   "cell_type": "code",
   "execution_count": 25,
   "id": "593ee071",
   "metadata": {},
   "outputs": [
    {
     "data": {
      "text/plain": [
       "[10, 20, 60, 62, 32, 45]"
      ]
     },
     "execution_count": 25,
     "metadata": {},
     "output_type": "execute_result"
    }
   ],
   "source": [
    "list1"
   ]
  },
  {
   "cell_type": "code",
   "execution_count": 26,
   "id": "3f360ed0",
   "metadata": {},
   "outputs": [],
   "source": [
    "my_tuple = (40, 3, 2, [10, 4])\n"
   ]
  },
  {
   "cell_type": "code",
   "execution_count": 27,
   "id": "109c0d26",
   "metadata": {},
   "outputs": [
    {
     "ename": "TypeError",
     "evalue": "'tuple' object doesn't support item deletion",
     "output_type": "error",
     "traceback": [
      "\u001b[1;31m---------------------------------------------------------------------------\u001b[0m",
      "\u001b[1;31mTypeError\u001b[0m                                 Traceback (most recent call last)",
      "Cell \u001b[1;32mIn[27], line 1\u001b[0m\n\u001b[1;32m----> 1\u001b[0m \u001b[38;5;28;01mdel\u001b[39;00m my_tuple[\u001b[38;5;241m3\u001b[39m]\n",
      "\u001b[1;31mTypeError\u001b[0m: 'tuple' object doesn't support item deletion"
     ]
    }
   ],
   "source": [
    "del my_tuple[3] #we cannot delete anything in tuple"
   ]
  },
  {
   "cell_type": "code",
   "execution_count": 28,
   "id": "3e5e2718",
   "metadata": {},
   "outputs": [],
   "source": [
    "my_tuple = ('math','science','science','python','english')"
   ]
  },
  {
   "cell_type": "code",
   "execution_count": 29,
   "id": "b3cfe28c",
   "metadata": {},
   "outputs": [
    {
     "data": {
      "text/plain": [
       "True"
      ]
     },
     "execution_count": 29,
     "metadata": {},
     "output_type": "execute_result"
    }
   ],
   "source": [
    "\"python\" in my_tuple"
   ]
  },
  {
   "cell_type": "code",
   "execution_count": 30,
   "id": "caf284c1",
   "metadata": {},
   "outputs": [
    {
     "data": {
      "text/plain": [
       "False"
      ]
     },
     "execution_count": 30,
     "metadata": {},
     "output_type": "execute_result"
    }
   ],
   "source": [
    "\"python\" not in my_tuple"
   ]
  },
  {
   "cell_type": "code",
   "execution_count": 31,
   "id": "f0e3bd33",
   "metadata": {},
   "outputs": [
    {
     "name": "stdout",
     "output_type": "stream",
     "text": [
      "True\n"
     ]
    }
   ],
   "source": [
    "print(\"python\" in my_tuple)"
   ]
  },
  {
   "cell_type": "code",
   "execution_count": 32,
   "id": "8599f9ed",
   "metadata": {},
   "outputs": [
    {
     "name": "stdout",
     "output_type": "stream",
     "text": [
      "False\n"
     ]
    }
   ],
   "source": [
    "print(\"python\" not in my_tuple)"
   ]
  },
  {
   "cell_type": "code",
   "execution_count": 33,
   "id": "75a07de9",
   "metadata": {},
   "outputs": [],
   "source": [
    "my_list = [\"2\", 50, \"2\", 50, 4, 6, 9, 9]"
   ]
  },
  {
   "cell_type": "code",
   "execution_count": 34,
   "id": "9f55eb5a",
   "metadata": {},
   "outputs": [
    {
     "data": {
      "text/plain": [
       "['2', 50, '2', 50, 4, 6, 9, 9]"
      ]
     },
     "execution_count": 34,
     "metadata": {},
     "output_type": "execute_result"
    }
   ],
   "source": [
    "my_list"
   ]
  },
  {
   "cell_type": "code",
   "execution_count": 35,
   "id": "bbab1f68",
   "metadata": {},
   "outputs": [],
   "source": [
    "a=(my_list)"
   ]
  },
  {
   "cell_type": "code",
   "execution_count": 36,
   "id": "c2e76405",
   "metadata": {},
   "outputs": [
    {
     "data": {
      "text/plain": [
       "['2', 50, '2', 50, 4, 6, 9, 9]"
      ]
     },
     "execution_count": 36,
     "metadata": {},
     "output_type": "execute_result"
    }
   ],
   "source": [
    "a"
   ]
  },
  {
   "cell_type": "code",
   "execution_count": 37,
   "id": "7c6cdc14",
   "metadata": {},
   "outputs": [],
   "source": [
    "a=set(my_list) #converting list to set"
   ]
  },
  {
   "cell_type": "code",
   "execution_count": 38,
   "id": "c40713a5",
   "metadata": {},
   "outputs": [],
   "source": [
    "my_list= set(my_list)"
   ]
  },
  {
   "cell_type": "code",
   "execution_count": 39,
   "id": "dfe617aa",
   "metadata": {},
   "outputs": [
    {
     "data": {
      "text/plain": [
       "{'2', 4, 50, 6, 9}"
      ]
     },
     "execution_count": 39,
     "metadata": {},
     "output_type": "execute_result"
    }
   ],
   "source": [
    "my_list"
   ]
  },
  {
   "cell_type": "code",
   "execution_count": 40,
   "id": "5f8e83ec",
   "metadata": {},
   "outputs": [],
   "source": [
    "my_list=set[my_list]"
   ]
  },
  {
   "cell_type": "code",
   "execution_count": 41,
   "id": "7c0ee61e",
   "metadata": {},
   "outputs": [
    {
     "data": {
      "text/plain": [
       "set[{4, 6, 9, 50, '2'}]"
      ]
     },
     "execution_count": 41,
     "metadata": {},
     "output_type": "execute_result"
    }
   ],
   "source": [
    "my_list"
   ]
  },
  {
   "cell_type": "code",
   "execution_count": 42,
   "id": "77499bb5",
   "metadata": {},
   "outputs": [],
   "source": [
    "my_list = [\"2\", 50, \"2\", 50, 4, 6, 9, 9]"
   ]
  },
  {
   "cell_type": "code",
   "execution_count": 44,
   "id": "608198fe",
   "metadata": {},
   "outputs": [],
   "source": [
    "out_list = list(set(my_list)) #converted list to set to remove duplicates and then converting back to list\n"
   ]
  },
  {
   "cell_type": "code",
   "execution_count": 45,
   "id": "65f3e602",
   "metadata": {},
   "outputs": [
    {
     "name": "stdout",
     "output_type": "stream",
     "text": [
      "[4, 6, 9, 50, '2']\n"
     ]
    }
   ],
   "source": [
    "print(out_list)"
   ]
  },
  {
   "cell_type": "code",
   "execution_count": 46,
   "id": "0ed8a8a3",
   "metadata": {},
   "outputs": [
    {
     "data": {
      "text/plain": [
       "list"
      ]
     },
     "execution_count": 46,
     "metadata": {},
     "output_type": "execute_result"
    }
   ],
   "source": [
    "type(out_list)"
   ]
  },
  {
   "cell_type": "code",
   "execution_count": 47,
   "id": "ed2a2987",
   "metadata": {},
   "outputs": [],
   "source": [
    "my_set = {\"sara\", \"mike\", \"jon\", \"jon\", \"mike\"}"
   ]
  },
  {
   "cell_type": "code",
   "execution_count": 49,
   "id": "0b830e83",
   "metadata": {},
   "outputs": [
    {
     "data": {
      "text/plain": [
       "{'jon', 'mike', 'sara', 'saurabh'}"
      ]
     },
     "execution_count": 49,
     "metadata": {},
     "output_type": "execute_result"
    }
   ],
   "source": [
    "my_set.add(\"saurabh\")#adding element to set\n",
    "my_set"
   ]
  },
  {
   "cell_type": "code",
   "execution_count": 50,
   "id": "a256e240",
   "metadata": {},
   "outputs": [],
   "source": [
    "newlist=list(set(my_set))"
   ]
  },
  {
   "cell_type": "code",
   "execution_count": 51,
   "id": "aa0a769a",
   "metadata": {},
   "outputs": [
    {
     "data": {
      "text/plain": [
       "{'jon', 'mike', 'sara', 'saurabh'}"
      ]
     },
     "execution_count": 51,
     "metadata": {},
     "output_type": "execute_result"
    }
   ],
   "source": [
    "my_set"
   ]
  },
  {
   "cell_type": "code",
   "execution_count": 52,
   "id": "7cd9a412",
   "metadata": {},
   "outputs": [
    {
     "data": {
      "text/plain": [
       "set"
      ]
     },
     "execution_count": 52,
     "metadata": {},
     "output_type": "execute_result"
    }
   ],
   "source": [
    "type(my_set)"
   ]
  },
  {
   "cell_type": "code",
   "execution_count": 53,
   "id": "f54aefb4",
   "metadata": {},
   "outputs": [
    {
     "name": "stdout",
     "output_type": "stream",
     "text": [
      "['saurabh', 'sara', 'mike', 'jon']\n"
     ]
    }
   ],
   "source": [
    "print(newlist)"
   ]
  },
  {
   "cell_type": "code",
   "execution_count": 54,
   "id": "7b84135d",
   "metadata": {},
   "outputs": [
    {
     "data": {
      "text/plain": [
       "['__and__',\n",
       " '__class__',\n",
       " '__class_getitem__',\n",
       " '__contains__',\n",
       " '__delattr__',\n",
       " '__dir__',\n",
       " '__doc__',\n",
       " '__eq__',\n",
       " '__format__',\n",
       " '__ge__',\n",
       " '__getattribute__',\n",
       " '__getstate__',\n",
       " '__gt__',\n",
       " '__hash__',\n",
       " '__iand__',\n",
       " '__init__',\n",
       " '__init_subclass__',\n",
       " '__ior__',\n",
       " '__isub__',\n",
       " '__iter__',\n",
       " '__ixor__',\n",
       " '__le__',\n",
       " '__len__',\n",
       " '__lt__',\n",
       " '__ne__',\n",
       " '__new__',\n",
       " '__or__',\n",
       " '__rand__',\n",
       " '__reduce__',\n",
       " '__reduce_ex__',\n",
       " '__repr__',\n",
       " '__ror__',\n",
       " '__rsub__',\n",
       " '__rxor__',\n",
       " '__setattr__',\n",
       " '__sizeof__',\n",
       " '__str__',\n",
       " '__sub__',\n",
       " '__subclasshook__',\n",
       " '__xor__',\n",
       " 'add',\n",
       " 'clear',\n",
       " 'copy',\n",
       " 'difference',\n",
       " 'difference_update',\n",
       " 'discard',\n",
       " 'intersection',\n",
       " 'intersection_update',\n",
       " 'isdisjoint',\n",
       " 'issubset',\n",
       " 'issuperset',\n",
       " 'pop',\n",
       " 'remove',\n",
       " 'symmetric_difference',\n",
       " 'symmetric_difference_update',\n",
       " 'union',\n",
       " 'update']"
      ]
     },
     "execution_count": 54,
     "metadata": {},
     "output_type": "execute_result"
    }
   ],
   "source": [
    "dir(my_set)"
   ]
  }
 ],
 "metadata": {
  "kernelspec": {
   "display_name": "Python 3 (ipykernel)",
   "language": "python",
   "name": "python3"
  },
  "language_info": {
   "codemirror_mode": {
    "name": "ipython",
    "version": 3
   },
   "file_extension": ".py",
   "mimetype": "text/x-python",
   "name": "python",
   "nbconvert_exporter": "python",
   "pygments_lexer": "ipython3",
   "version": "3.11.5"
  }
 },
 "nbformat": 4,
 "nbformat_minor": 5
}
