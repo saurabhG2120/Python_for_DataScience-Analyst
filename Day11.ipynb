{
 "cells": [
  {
   "cell_type": "markdown",
   "id": "10b4b05b",
   "metadata": {},
   "source": [
    "WRITE A CODE THAT TAKES A RANGE FROM 100 AND 900 AND ONLY PRINTS NUMBERS WHERE ALL DIGITS ARE EVEN"
   ]
  },
  {
   "cell_type": "code",
   "execution_count": null,
   "id": "801dd1d6",
   "metadata": {},
   "outputs": [],
   "source": [
    "a=int(input('num a:'))\n",
    "b=int(input('num b:'))\n",
    "for i in range(a,b+1):\n",
    "    if i in range(100,900+1) and  i%2==0:\n",
    "          print(i)"
   ]
  },
  {
   "cell_type": "markdown",
   "id": "aaee760e",
   "metadata": {},
   "source": [
    "# functions\n",
    "A function is a block of code that can run whenever it is called (by the main function for example).\n",
    "Data or arguments can be passed to the function and also returned from the function."
   ]
  },
  {
   "cell_type": "code",
   "execution_count": null,
   "id": "05d60796",
   "metadata": {},
   "outputs": [],
   "source": [
    "def sum(x,y):\n",
    "    return x+y"
   ]
  },
  {
   "cell_type": "code",
   "execution_count": null,
   "id": "1533c148",
   "metadata": {},
   "outputs": [],
   "source": [
    "sum(1,2)"
   ]
  },
  {
   "cell_type": "code",
   "execution_count": null,
   "id": "1d7db33b",
   "metadata": {},
   "outputs": [],
   "source": [
    "def cube(x):\n",
    "    return x**3"
   ]
  },
  {
   "cell_type": "code",
   "execution_count": null,
   "id": "3d41f5cd",
   "metadata": {},
   "outputs": [],
   "source": [
    "print(cube(5),\"hello\")"
   ]
  },
  {
   "cell_type": "code",
   "execution_count": null,
   "id": "be9ea9c8",
   "metadata": {},
   "outputs": [],
   "source": []
  },
  {
   "cell_type": "code",
   "execution_count": 2,
   "id": "aef2ef8c",
   "metadata": {},
   "outputs": [],
   "source": [
    "\n",
    "def greetings_function(name,greetings):\n",
    "\n",
    "    print(\"happy new year {},i wish you {}\".format(name,greetings))"
   ]
  },
  {
   "cell_type": "code",
   "execution_count": 5,
   "id": "4d50c45e",
   "metadata": {},
   "outputs": [
    {
     "name": "stdout",
     "output_type": "stream",
     "text": [
      "happy new year saurabh,i wish you happy\n"
     ]
    }
   ],
   "source": [
    "greetings_function(name='saurabh',greetings='happy')"
   ]
  },
  {
   "cell_type": "code",
   "execution_count": 8,
   "id": "d4c07f2e",
   "metadata": {},
   "outputs": [
    {
     "name": "stdout",
     "output_type": "stream",
     "text": [
      "happy new year saurabh,i wish you happy\n",
      "happy new year ashish,i wish you health\n",
      "happy new year sunny,i wish you success\n"
     ]
    }
   ],
   "source": [
    "name_list=['saurabh','ashish','sunny']\n",
    "g_list=['happy','health','success']\n",
    "for i,j in zip(name_list,g_list):\n",
    "    greetings_function(i,j)"
   ]
  },
  {
   "cell_type": "code",
   "execution_count": null,
   "id": "20b7b314",
   "metadata": {},
   "outputs": [],
   "source": []
  }
 ],
 "metadata": {
  "kernelspec": {
   "display_name": "Python 3 (ipykernel)",
   "language": "python",
   "name": "python3"
  },
  "language_info": {
   "codemirror_mode": {
    "name": "ipython",
    "version": 3
   },
   "file_extension": ".py",
   "mimetype": "text/x-python",
   "name": "python",
   "nbconvert_exporter": "python",
   "pygments_lexer": "ipython3",
   "version": "3.11.5"
  }
 },
 "nbformat": 4,
 "nbformat_minor": 5
}
