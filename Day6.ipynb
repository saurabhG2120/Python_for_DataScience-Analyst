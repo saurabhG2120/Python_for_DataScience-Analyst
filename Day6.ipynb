{
 "cells": [
  {
   "cell_type": "markdown",
   "id": "abc5f548",
   "metadata": {},
   "source": [
    "# Questions solving\n"
   ]
  },
  {
   "cell_type": "raw",
   "id": "7978263a",
   "metadata": {},
   "source": [
    "Q.7.sqaure each element in the following dictionary\n",
    "d={'c1':[10,20,30],'c2':[20,30,40]}"
   ]
  },
  {
   "cell_type": "code",
   "execution_count": 1,
   "id": "e00e392d",
   "metadata": {},
   "outputs": [],
   "source": [
    "d={'c1':[10,20,30],'c2':[20,30,40]}"
   ]
  },
  {
   "cell_type": "code",
   "execution_count": 2,
   "id": "30beedfa",
   "metadata": {},
   "outputs": [
    {
     "name": "stdout",
     "output_type": "stream",
     "text": [
      "{'c1': [100, 400, 900], 'c2': [400, 900, 1600]}\n"
     ]
    }
   ],
   "source": [
    "d['c1']=[d['c1'][0]**2,d['c1'][1]**2,d['c1'][2]**2]\n",
    "d['c2']=[d['c2'][0]**2,d['c2'][1]**2,d['c2'][2]**2]\n",
    "print(d)"
   ]
  },
  {
   "cell_type": "markdown",
   "id": "b82f0ff5",
   "metadata": {},
   "source": [
    "Q.8.create a list of all keys and a list of all values and the total sum of all values"
   ]
  },
  {
   "cell_type": "code",
   "execution_count": 8,
   "id": "11a6bf3c",
   "metadata": {},
   "outputs": [],
   "source": [
    "a={'alex':25,\"sally\":28,\"dina\":30}"
   ]
  },
  {
   "cell_type": "code",
   "execution_count": 13,
   "id": "d6337495",
   "metadata": {},
   "outputs": [],
   "source": [
    "key=list(a)"
   ]
  },
  {
   "cell_type": "code",
   "execution_count": 14,
   "id": "2c7c6da3",
   "metadata": {},
   "outputs": [
    {
     "data": {
      "text/plain": [
       "['alex', 'sally', 'dina']"
      ]
     },
     "execution_count": 14,
     "metadata": {},
     "output_type": "execute_result"
    }
   ],
   "source": [
    "key"
   ]
  },
  {
   "cell_type": "code",
   "execution_count": 15,
   "id": "09050d1e",
   "metadata": {},
   "outputs": [],
   "source": [
    "value=list(a.values())"
   ]
  },
  {
   "cell_type": "code",
   "execution_count": 16,
   "id": "8fd123a5",
   "metadata": {},
   "outputs": [],
   "source": [
    "sumofvalues=sum(value)"
   ]
  },
  {
   "cell_type": "code",
   "execution_count": 17,
   "id": "1a307b3c",
   "metadata": {},
   "outputs": [
    {
     "data": {
      "text/plain": [
       "83"
      ]
     },
     "execution_count": 17,
     "metadata": {},
     "output_type": "execute_result"
    }
   ],
   "source": [
    "sumofvalues"
   ]
  },
  {
   "cell_type": "markdown",
   "id": "8a4b4a56",
   "metadata": {},
   "source": [
    "Q.9.obtain the length of the following dictionary and sort its element"
   ]
  },
  {
   "cell_type": "code",
   "execution_count": 18,
   "id": "d70d4177",
   "metadata": {},
   "outputs": [],
   "source": [
    "my_dict={'sally':23,\"dina\":22,'holy':50,'joe':10,'peter':44}"
   ]
  },
  {
   "cell_type": "code",
   "execution_count": 19,
   "id": "45b75e50",
   "metadata": {},
   "outputs": [
    {
     "data": {
      "text/plain": [
       "5"
      ]
     },
     "execution_count": 19,
     "metadata": {},
     "output_type": "execute_result"
    }
   ],
   "source": [
    "len(my_dict)"
   ]
  },
  {
   "cell_type": "code",
   "execution_count": 20,
   "id": "acd8bcf7",
   "metadata": {},
   "outputs": [
    {
     "data": {
      "text/plain": [
       "['__class__',\n",
       " '__class_getitem__',\n",
       " '__contains__',\n",
       " '__delattr__',\n",
       " '__delitem__',\n",
       " '__dir__',\n",
       " '__doc__',\n",
       " '__eq__',\n",
       " '__format__',\n",
       " '__ge__',\n",
       " '__getattribute__',\n",
       " '__getitem__',\n",
       " '__gt__',\n",
       " '__hash__',\n",
       " '__init__',\n",
       " '__init_subclass__',\n",
       " '__ior__',\n",
       " '__iter__',\n",
       " '__le__',\n",
       " '__len__',\n",
       " '__lt__',\n",
       " '__ne__',\n",
       " '__new__',\n",
       " '__or__',\n",
       " '__reduce__',\n",
       " '__reduce_ex__',\n",
       " '__repr__',\n",
       " '__reversed__',\n",
       " '__ror__',\n",
       " '__setattr__',\n",
       " '__setitem__',\n",
       " '__sizeof__',\n",
       " '__str__',\n",
       " '__subclasshook__',\n",
       " 'clear',\n",
       " 'copy',\n",
       " 'fromkeys',\n",
       " 'get',\n",
       " 'items',\n",
       " 'keys',\n",
       " 'pop',\n",
       " 'popitem',\n",
       " 'setdefault',\n",
       " 'update',\n",
       " 'values']"
      ]
     },
     "execution_count": 20,
     "metadata": {},
     "output_type": "execute_result"
    }
   ],
   "source": [
    "dir(my_dict)"
   ]
  },
  {
   "cell_type": "code",
   "execution_count": 33,
   "id": "f6556230",
   "metadata": {},
   "outputs": [],
   "source": [
    "dic=list(my_dict.values())"
   ]
  },
  {
   "cell_type": "code",
   "execution_count": 34,
   "id": "32ad387f",
   "metadata": {},
   "outputs": [],
   "source": [
    "dic.sort()"
   ]
  },
  {
   "cell_type": "code",
   "execution_count": 35,
   "id": "312fd0d9",
   "metadata": {},
   "outputs": [
    {
     "data": {
      "text/plain": [
       "[10, 22, 23, 44, 50]"
      ]
     },
     "execution_count": 35,
     "metadata": {},
     "output_type": "execute_result"
    }
   ],
   "source": [
    "dic"
   ]
  },
  {
   "cell_type": "markdown",
   "id": "e7b744ab",
   "metadata": {},
   "source": [
    "Q.5. FOR EACH OF THE STUDENTS LIST BELOW, CALCULATE THE AVERAGE MARK FOR THE MIDTERM AND FINAL EXAMS FOR EACH STUDENT AND PUT THE AVERAGE IN A SEPARATE DICTIONARY ALONG WITH WITH THE STUDENT ID"
   ]
  },
  {
   "cell_type": "code",
   "execution_count": 3,
   "id": "2c53aea9",
   "metadata": {},
   "outputs": [],
   "source": [
    "student_details = [\n",
    "  {'student_id' : 1, 'subject' : 'math', 'midterm' : 60, 'final' : 85},\n",
    "  {'student_id' : 2, 'subject' : 'math', 'midterm' : 80, 'final' : 78},\n",
    "  {'student_id' : 3, 'subject' : 'math', 'midterm' : 90, 'final' : 85}\n",
    "]\n",
    "\n"
   ]
  },
  {
   "cell_type": "code",
   "execution_count": 15,
   "id": "3c8329e3",
   "metadata": {},
   "outputs": [],
   "source": [
    "avg1=(student_details[0]['midterm']+student_details[0]['final'])/2\n",
    "avg2=(student_details[1]['midterm']+student_details[1]['final'])/2\n",
    "avg3=(student_details[2]['midterm']+student_details[2]['final'])/2"
   ]
  },
  {
   "cell_type": "code",
   "execution_count": 17,
   "id": "590461ec",
   "metadata": {},
   "outputs": [
    {
     "data": {
      "text/plain": [
       "72.5"
      ]
     },
     "execution_count": 17,
     "metadata": {},
     "output_type": "execute_result"
    }
   ],
   "source": [
    "avg1\n"
   ]
  },
  {
   "cell_type": "code",
   "execution_count": 18,
   "id": "d1f54ee8",
   "metadata": {},
   "outputs": [
    {
     "data": {
      "text/plain": [
       "79.0"
      ]
     },
     "execution_count": 18,
     "metadata": {},
     "output_type": "execute_result"
    }
   ],
   "source": [
    "avg2\n"
   ]
  },
  {
   "cell_type": "code",
   "execution_count": 19,
   "id": "543ddcd4",
   "metadata": {},
   "outputs": [
    {
     "data": {
      "text/plain": [
       "87.5"
      ]
     },
     "execution_count": 19,
     "metadata": {},
     "output_type": "execute_result"
    }
   ],
   "source": [
    "avg3"
   ]
  },
  {
   "cell_type": "code",
   "execution_count": 22,
   "id": "8d4ddc6e",
   "metadata": {},
   "outputs": [
    {
     "name": "stdout",
     "output_type": "stream",
     "text": [
      "72.5 79.0 87.5\n"
     ]
    }
   ],
   "source": [
    "print(avg1,avg2,avg3)"
   ]
  },
  {
   "cell_type": "code",
   "execution_count": 33,
   "id": "26a8a669",
   "metadata": {},
   "outputs": [],
   "source": [
    "dicts=[{'student_id':1,'average':avg1},\n",
    "      {'student_id':2,'average':avg2},\n",
    "      {'student_id':3,'average':avg3}]\n",
    "     "
   ]
  },
  {
   "cell_type": "code",
   "execution_count": 34,
   "id": "fdbc6bdc",
   "metadata": {},
   "outputs": [
    {
     "data": {
      "text/plain": [
       "[{'student_id': 1, 'average': 72.5},\n",
       " {'student_id': 2, 'average': 79.0},\n",
       " {'student_id': 3, 'average': 87.5}]"
      ]
     },
     "execution_count": 34,
     "metadata": {},
     "output_type": "execute_result"
    }
   ],
   "source": [
    "dicts"
   ]
  },
  {
   "cell_type": "code",
   "execution_count": 40,
   "id": "2ca5facf",
   "metadata": {},
   "outputs": [
    {
     "name": "stdout",
     "output_type": "stream",
     "text": [
      "True\n",
      "False\n",
      "False\n",
      "False\n"
     ]
    }
   ],
   "source": [
    "a=90\n",
    "b=50\n",
    "c=80\n",
    "print(a>b<c)\n",
    "print(a>c<b)\n",
    "print(a==b>c)\n",
    "print(a!=b==c)"
   ]
  },
  {
   "cell_type": "code",
   "execution_count": 44,
   "id": "6b247b9b",
   "metadata": {},
   "outputs": [
    {
     "data": {
      "text/plain": [
       "True"
      ]
     },
     "execution_count": 44,
     "metadata": {},
     "output_type": "execute_result"
    }
   ],
   "source": [
    "'saurabh'!='Saurabh'"
   ]
  },
  {
   "cell_type": "code",
   "execution_count": 46,
   "id": "da73ac06",
   "metadata": {},
   "outputs": [
    {
     "data": {
      "text/plain": [
       "True"
      ]
     },
     "execution_count": 46,
     "metadata": {},
     "output_type": "execute_result"
    }
   ],
   "source": [
    "0==0"
   ]
  },
  {
   "cell_type": "code",
   "execution_count": 1,
   "id": "029c6afb",
   "metadata": {},
   "outputs": [
    {
     "name": "stdout",
     "output_type": "stream",
     "text": [
      "enter a number:60\n",
      "true\n"
     ]
    }
   ],
   "source": [
    "if int(input(\"enter a number:\"))> 50:\n",
    "    print('true')\n",
    "\n"
   ]
  },
  {
   "cell_type": "code",
   "execution_count": 55,
   "id": "53be758c",
   "metadata": {},
   "outputs": [
    {
     "name": "stdout",
     "output_type": "stream",
     "text": [
      "Second statement is true\n"
     ]
    }
   ],
   "source": [
    "if 5 ==6:\n",
    "    print('First statement is true')\n",
    "elif 2 == 2:\n",
    "    print('Second statement is true')\n",
    "elif 2 == 4:\n",
    "    print('third statement is true')\n",
    "elif 2 == 5:\n",
    "    print('fouth statement is true')\n",
    "elif 2 == 4:\n",
    "    print('fivth statement is true')\n",
    "else:\n",
    "    print('Last statement is true')\n",
    "\n",
    " "
   ]
  },
  {
   "cell_type": "code",
   "execution_count": 56,
   "id": "280d4823",
   "metadata": {},
   "outputs": [
    {
     "name": "stdout",
     "output_type": "stream",
     "text": [
      "If condition is True\n"
     ]
    }
   ],
   "source": [
    "if 10 > 2:\n",
    "    print('If condition is True')\n",
    "else:\n",
    "    print('If condition is False')"
   ]
  },
  {
   "cell_type": "code",
   "execution_count": 2,
   "id": "1297ac4e",
   "metadata": {},
   "outputs": [],
   "source": [
    "def cap(text):\n",
    "    final=\"\"\n",
    "    f=text[0].upper()\n",
    "    l=text[1:].lower()\n",
    "    final=f+l\n",
    "    return final  "
   ]
  },
  {
   "cell_type": "code",
   "execution_count": 10,
   "id": "f5944c90",
   "metadata": {},
   "outputs": [
    {
     "name": "stdout",
     "output_type": "stream",
     "text": [
      "enter ur name:saurabh\n"
     ]
    }
   ],
   "source": [
    "name=input(\"enter ur name:\")\n",
    "if cap(name) == \"saurabh\":\n",
    "    print(\"access granted\")\n"
   ]
  },
  {
   "cell_type": "code",
   "execution_count": null,
   "id": "22846420",
   "metadata": {},
   "outputs": [],
   "source": []
  },
  {
   "cell_type": "code",
   "execution_count": null,
   "id": "5e833e17",
   "metadata": {},
   "outputs": [],
   "source": []
  }
 ],
 "metadata": {
  "kernelspec": {
   "display_name": "Python 3 (ipykernel)",
   "language": "python",
   "name": "python3"
  },
  "language_info": {
   "codemirror_mode": {
    "name": "ipython",
    "version": 3
   },
   "file_extension": ".py",
   "mimetype": "text/x-python",
   "name": "python",
   "nbconvert_exporter": "python",
   "pygments_lexer": "ipython3",
   "version": "3.11.5"
  }
 },
 "nbformat": 4,
 "nbformat_minor": 5
}
