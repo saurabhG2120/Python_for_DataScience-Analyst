{
 "cells": [
  {
   "cell_type": "markdown",
   "id": "5990b7c7",
   "metadata": {},
   "source": [
    "first day of python"
   ]
  },
  {
   "cell_type": "markdown",
   "id": "a53ad569",
   "metadata": {},
   "source": [
    "##variable assignment and maths operations"
   ]
  },
  {
   "cell_type": "code",
   "execution_count": 5,
   "id": "a9e4a16f",
   "metadata": {},
   "outputs": [
    {
     "data": {
      "text/plain": [
       "10"
      ]
     },
     "execution_count": 5,
     "metadata": {},
     "output_type": "execute_result"
    }
   ],
   "source": [
    "5+5"
   ]
  },
  {
   "cell_type": "code",
   "execution_count": 6,
   "id": "e17d740f",
   "metadata": {},
   "outputs": [
    {
     "data": {
      "text/plain": [
       "30"
      ]
     },
     "execution_count": 6,
     "metadata": {},
     "output_type": "execute_result"
    }
   ],
   "source": [
    "5*6"
   ]
  },
  {
   "cell_type": "code",
   "execution_count": 7,
   "id": "2c21c26e",
   "metadata": {},
   "outputs": [
    {
     "data": {
      "text/plain": [
       "90.504"
      ]
     },
     "execution_count": 7,
     "metadata": {},
     "output_type": "execute_result"
    }
   ],
   "source": [
    "56565/625"
   ]
  },
  {
   "cell_type": "code",
   "execution_count": 8,
   "id": "103aa01a",
   "metadata": {},
   "outputs": [
    {
     "data": {
      "text/plain": [
       "8.660254037844387"
      ]
     },
     "execution_count": 8,
     "metadata": {},
     "output_type": "execute_result"
    }
   ],
   "source": [
    "import math\n",
    "math.sqrt(75)"
   ]
  },
  {
   "cell_type": "code",
   "execution_count": 12,
   "id": "15ae9437",
   "metadata": {},
   "outputs": [
    {
     "data": {
      "text/plain": [
       "608893320"
      ]
     },
     "execution_count": 12,
     "metadata": {},
     "output_type": "execute_result"
    }
   ],
   "source": [
    "(1005*868)*698"
   ]
  },
  {
   "cell_type": "markdown",
   "id": "6466ba98",
   "metadata": {},
   "source": [
    "## variable assignment"
   ]
  },
  {
   "cell_type": "code",
   "execution_count": 13,
   "id": "1c863545",
   "metadata": {},
   "outputs": [],
   "source": [
    "a=5"
   ]
  },
  {
   "cell_type": "code",
   "execution_count": 14,
   "id": "3b973a50",
   "metadata": {},
   "outputs": [
    {
     "data": {
      "text/plain": [
       "5"
      ]
     },
     "execution_count": 14,
     "metadata": {},
     "output_type": "execute_result"
    }
   ],
   "source": [
    "a"
   ]
  },
  {
   "cell_type": "code",
   "execution_count": 16,
   "id": "6aa7772e",
   "metadata": {},
   "outputs": [
    {
     "name": "stdout",
     "output_type": "stream",
     "text": [
      "270\n"
     ]
    }
   ],
   "source": [
    "print(5*6*9)"
   ]
  },
  {
   "cell_type": "code",
   "execution_count": 17,
   "id": "1c8417c1",
   "metadata": {},
   "outputs": [
    {
     "data": {
      "text/plain": [
       "int"
      ]
     },
     "execution_count": 17,
     "metadata": {},
     "output_type": "execute_result"
    }
   ],
   "source": [
    "type(a)"
   ]
  },
  {
   "cell_type": "code",
   "execution_count": 18,
   "id": "1c1a4673",
   "metadata": {},
   "outputs": [
    {
     "name": "stdout",
     "output_type": "stream",
     "text": [
      "466545.6541514\n"
     ]
    }
   ],
   "source": [
    "a=466545.6541514\n",
    "print(a)"
   ]
  },
  {
   "cell_type": "code",
   "execution_count": 19,
   "id": "2d3d027c",
   "metadata": {},
   "outputs": [
    {
     "data": {
      "text/plain": [
       "float"
      ]
     },
     "execution_count": 19,
     "metadata": {},
     "output_type": "execute_result"
    }
   ],
   "source": [
    "type(a)"
   ]
  },
  {
   "cell_type": "code",
   "execution_count": 21,
   "id": "5a3f412d",
   "metadata": {},
   "outputs": [
    {
     "name": "stdout",
     "output_type": "stream",
     "text": [
      "saurabh\n"
     ]
    }
   ],
   "source": [
    "a=\"saurabh\"\n",
    "print(a)"
   ]
  },
  {
   "cell_type": "code",
   "execution_count": 22,
   "id": "f147f2ab",
   "metadata": {},
   "outputs": [
    {
     "data": {
      "text/plain": [
       "str"
      ]
     },
     "execution_count": 22,
     "metadata": {},
     "output_type": "execute_result"
    }
   ],
   "source": [
    "type(a)"
   ]
  },
  {
   "cell_type": "code",
   "execution_count": 27,
   "id": "d8deab69",
   "metadata": {},
   "outputs": [],
   "source": [
    "a= True"
   ]
  },
  {
   "cell_type": "code",
   "execution_count": 28,
   "id": "da43ad80",
   "metadata": {},
   "outputs": [
    {
     "data": {
      "text/plain": [
       "bool"
      ]
     },
     "execution_count": 28,
     "metadata": {},
     "output_type": "execute_result"
    }
   ],
   "source": [
    "type(a)"
   ]
  },
  {
   "cell_type": "code",
   "execution_count": 29,
   "id": "5fa76d49",
   "metadata": {},
   "outputs": [
    {
     "data": {
      "text/plain": [
       "5"
      ]
     },
     "execution_count": 29,
     "metadata": {},
     "output_type": "execute_result"
    }
   ],
   "source": [
    "x = 10\n",
    "x=20\n",
    "x=5\n",
    "x"
   ]
  },
  {
   "cell_type": "code",
   "execution_count": 30,
   "id": "86075229",
   "metadata": {},
   "outputs": [
    {
     "data": {
      "text/plain": [
       "int"
      ]
     },
     "execution_count": 30,
     "metadata": {},
     "output_type": "execute_result"
    }
   ],
   "source": [
    "type(x)"
   ]
  },
  {
   "cell_type": "code",
   "execution_count": 36,
   "id": "30a96d47",
   "metadata": {},
   "outputs": [
    {
     "data": {
      "text/plain": [
       "0.7142857142857143"
      ]
     },
     "execution_count": 36,
     "metadata": {},
     "output_type": "execute_result"
    }
   ],
   "source": [
    "y=7\n",
    "z=x/y\n",
    "z"
   ]
  },
  {
   "cell_type": "code",
   "execution_count": 32,
   "id": "922f2568",
   "metadata": {},
   "outputs": [
    {
     "data": {
      "text/plain": [
       "int"
      ]
     },
     "execution_count": 32,
     "metadata": {},
     "output_type": "execute_result"
    }
   ],
   "source": [
    "type(x)"
   ]
  },
  {
   "cell_type": "code",
   "execution_count": 41,
   "id": "a973d0e0",
   "metadata": {},
   "outputs": [
    {
     "name": "stdout",
     "output_type": "stream",
     "text": [
      "15\n",
      "16\n"
     ]
    }
   ],
   "source": [
    "a=3\n",
    "b=5\n",
    "area=a*b\n",
    "perimeter=2*(a+b)\n",
    "print(area)\n",
    "print(perimeter)"
   ]
  },
  {
   "cell_type": "code",
   "execution_count": 44,
   "id": "6d54624f",
   "metadata": {},
   "outputs": [
    {
     "data": {
      "text/plain": [
       "7.5"
      ]
     },
     "execution_count": 44,
     "metadata": {},
     "output_type": "execute_result"
    }
   ],
   "source": [
    "x=25\n",
    "y=20\n",
    "z=3\n",
    "f=2\n",
    "ans=(x - y)* z / f \n",
    "ans"
   ]
  },
  {
   "cell_type": "code",
   "execution_count": 46,
   "id": "7cf7552c",
   "metadata": {},
   "outputs": [
    {
     "data": {
      "text/plain": [
       "7.5"
      ]
     },
     "execution_count": 46,
     "metadata": {},
     "output_type": "execute_result"
    }
   ],
   "source": [
    "e=((x-y)*z)/f\n",
    "e"
   ]
  },
  {
   "cell_type": "markdown",
   "id": "bf0dfa0c",
   "metadata": {},
   "source": [
    "###write a code to test if number is even or odd "
   ]
  },
  {
   "cell_type": "code",
   "execution_count": 48,
   "id": "5ab237af",
   "metadata": {},
   "outputs": [
    {
     "data": {
      "text/plain": [
       "0"
      ]
     },
     "execution_count": 48,
     "metadata": {},
     "output_type": "execute_result"
    }
   ],
   "source": [
    "x=20\n",
    "y=x%2\n",
    "y"
   ]
  },
  {
   "cell_type": "code",
   "execution_count": 51,
   "id": "5b0fa7c5",
   "metadata": {},
   "outputs": [
    {
     "name": "stdout",
     "output_type": "stream",
     "text": [
      "the number is: 0\n"
     ]
    }
   ],
   "source": [
    "print(\"the number is:\",y)"
   ]
  },
  {
   "cell_type": "code",
   "execution_count": 11,
   "id": "91c6f37e",
   "metadata": {},
   "outputs": [
    {
     "data": {
      "text/plain": [
       "37"
      ]
     },
     "execution_count": 11,
     "metadata": {},
     "output_type": "execute_result"
    }
   ],
   "source": [
    "a=40\n",
    "a=a+-3\n",
    "a"
   ]
  },
  {
   "cell_type": "code",
   "execution_count": 14,
   "id": "3f9f1036",
   "metadata": {},
   "outputs": [
    {
     "data": {
      "text/plain": [
       "75"
      ]
     },
     "execution_count": 14,
     "metadata": {},
     "output_type": "execute_result"
    }
   ],
   "source": [
    "x=5\n",
    "y=10\n",
    "z=abs(x-y)*(x+y)\n",
    "z\n"
   ]
  }
 ],
 "metadata": {
  "kernelspec": {
   "display_name": "Python 3 (ipykernel)",
   "language": "python",
   "name": "python3"
  },
  "language_info": {
   "codemirror_mode": {
    "name": "ipython",
    "version": 3
   },
   "file_extension": ".py",
   "mimetype": "text/x-python",
   "name": "python",
   "nbconvert_exporter": "python",
   "pygments_lexer": "ipython3",
   "version": "3.11.5"
  }
 },
 "nbformat": 4,
 "nbformat_minor": 5
}
