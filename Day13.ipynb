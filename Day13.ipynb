{
 "cells": [
  {
   "cell_type": "markdown",
   "id": "ed49908a",
   "metadata": {},
   "source": [
    "# lambda\n",
    "Lambda function is a way to create small anonymous functions (without a name).\n",
    "Lambda functions are mainly used with filter(), map() and reduce().\n",
    "It can take any number of arguments, but can only have one expression."
   ]
  },
  {
   "cell_type": "code",
   "execution_count": 14,
   "id": "d4bc5a2c",
   "metadata": {},
   "outputs": [],
   "source": [
    "a=lambda x=3,y=2:x+y**2"
   ]
  },
  {
   "cell_type": "code",
   "execution_count": 15,
   "id": "33ae1848",
   "metadata": {},
   "outputs": [
    {
     "data": {
      "text/plain": [
       "7"
      ]
     },
     "execution_count": 15,
     "metadata": {},
     "output_type": "execute_result"
    }
   ],
   "source": [
    "a()"
   ]
  },
  {
   "cell_type": "code",
   "execution_count": 17,
   "id": "ec9c3ede",
   "metadata": {},
   "outputs": [],
   "source": [
    "b= lambda x,y,c:x/y+c"
   ]
  },
  {
   "cell_type": "code",
   "execution_count": 19,
   "id": "87e71b17",
   "metadata": {},
   "outputs": [
    {
     "data": {
      "text/plain": [
       "6"
      ]
     },
     "execution_count": 19,
     "metadata": {},
     "output_type": "execute_result"
    }
   ],
   "source": [
    "int(b(10,2,1))"
   ]
  },
  {
   "cell_type": "markdown",
   "id": "ed5295e1",
   "metadata": {},
   "source": [
    "# MAP\n",
    "The map() function takes in a function and a list.\n",
    "The function perform an operation on the entire list and return the results in a new list."
   ]
  },
  {
   "cell_type": "code",
   "execution_count": 22,
   "id": "6155a4ba",
   "metadata": {},
   "outputs": [],
   "source": [
    "a=['m','n']\n",
    "b=['y','a']"
   ]
  },
  {
   "cell_type": "code",
   "execution_count": 27,
   "id": "28c91c51",
   "metadata": {},
   "outputs": [],
   "source": [
    "x=list((map(lambda i,j:i+j,a,b)))"
   ]
  },
  {
   "cell_type": "code",
   "execution_count": 28,
   "id": "ac9b4344",
   "metadata": {},
   "outputs": [
    {
     "data": {
      "text/plain": [
       "['my', 'na']"
      ]
     },
     "execution_count": 28,
     "metadata": {},
     "output_type": "execute_result"
    }
   ],
   "source": [
    "x"
   ]
  },
  {
   "cell_type": "code",
   "execution_count": 32,
   "id": "293877ad",
   "metadata": {},
   "outputs": [
    {
     "data": {
      "text/plain": [
       "['my', 'na']"
      ]
     },
     "execution_count": 32,
     "metadata": {},
     "output_type": "execute_result"
    }
   ],
   "source": [
    "z=[]\n",
    "a=['m','n']\n",
    "b=['y','a']\n",
    "for i,j in zip(a,b):\n",
    "\n",
    "    z.append(i+j)\n",
    "z"
   ]
  },
  {
   "cell_type": "code",
   "execution_count": 39,
   "id": "a6cc77f8",
   "metadata": {},
   "outputs": [
    {
     "data": {
      "text/plain": [
       "['my', 'na']"
      ]
     },
     "execution_count": 39,
     "metadata": {},
     "output_type": "execute_result"
    }
   ],
   "source": [
    "[i+j for i,j in zip(a,b)] "
   ]
  },
  {
   "cell_type": "code",
   "execution_count": 42,
   "id": "8023296d",
   "metadata": {},
   "outputs": [
    {
     "data": {
      "text/plain": [
       "[1, 9, 25, 49, 81]"
      ]
     },
     "execution_count": 42,
     "metadata": {},
     "output_type": "execute_result"
    }
   ],
   "source": [
    "z=[1,3,5,7,9]\n",
    "x=list(map(lambda s:s**2,z))\n",
    "x"
   ]
  },
  {
   "cell_type": "code",
   "execution_count": 43,
   "id": "914d385b",
   "metadata": {},
   "outputs": [
    {
     "data": {
      "text/plain": [
       "[12, 20, 28, 30, 28]"
      ]
     },
     "execution_count": 43,
     "metadata": {},
     "output_type": "execute_result"
    }
   ],
   "source": [
    "z=[1,3,5,7,9]\n",
    "y=[5,7,9,8,5]\n",
    "c=list(map(lambda a,b: (a+b)*2,z,y))\n",
    "c"
   ]
  },
  {
   "cell_type": "code",
   "execution_count": 45,
   "id": "fb4f26b5",
   "metadata": {},
   "outputs": [
    {
     "data": {
      "text/plain": [
       "[12, 20, 28, 30, 28]"
      ]
     },
     "execution_count": 45,
     "metadata": {},
     "output_type": "execute_result"
    }
   ],
   "source": [
    "[(i+j)*2 for i,j in zip(z,y)]"
   ]
  },
  {
   "cell_type": "code",
   "execution_count": 46,
   "id": "ef0f921d",
   "metadata": {},
   "outputs": [
    {
     "data": {
      "text/plain": [
       "[12, 20, 28, 30, 28]"
      ]
     },
     "execution_count": 46,
     "metadata": {},
     "output_type": "execute_result"
    }
   ],
   "source": [
    "a=[]\n",
    "for i,j in zip(z,y):\n",
    "    a.append((i+j)*2)\n",
    "a"
   ]
  },
  {
   "cell_type": "code",
   "execution_count": 50,
   "id": "e99428e4",
   "metadata": {},
   "outputs": [
    {
     "data": {
      "text/plain": [
       "['__add__',\n",
       " '__class__',\n",
       " '__class_getitem__',\n",
       " '__contains__',\n",
       " '__delattr__',\n",
       " '__delitem__',\n",
       " '__dir__',\n",
       " '__doc__',\n",
       " '__eq__',\n",
       " '__format__',\n",
       " '__ge__',\n",
       " '__getattribute__',\n",
       " '__getitem__',\n",
       " '__gt__',\n",
       " '__hash__',\n",
       " '__iadd__',\n",
       " '__imul__',\n",
       " '__init__',\n",
       " '__init_subclass__',\n",
       " '__iter__',\n",
       " '__le__',\n",
       " '__len__',\n",
       " '__lt__',\n",
       " '__mul__',\n",
       " '__ne__',\n",
       " '__new__',\n",
       " '__reduce__',\n",
       " '__reduce_ex__',\n",
       " '__repr__',\n",
       " '__reversed__',\n",
       " '__rmul__',\n",
       " '__setattr__',\n",
       " '__setitem__',\n",
       " '__sizeof__',\n",
       " '__str__',\n",
       " '__subclasshook__',\n",
       " 'append',\n",
       " 'clear',\n",
       " 'copy',\n",
       " 'count',\n",
       " 'extend',\n",
       " 'index',\n",
       " 'insert',\n",
       " 'pop',\n",
       " 'remove',\n",
       " 'reverse',\n",
       " 'sort']"
      ]
     },
     "execution_count": 50,
     "metadata": {},
     "output_type": "execute_result"
    }
   ],
   "source": [
    "dir(z)"
   ]
  },
  {
   "cell_type": "code",
   "execution_count": null,
   "id": "a7211991",
   "metadata": {},
   "outputs": [],
   "source": []
  }
 ],
 "metadata": {
  "kernelspec": {
   "display_name": "Python 3 (ipykernel)",
   "language": "python",
   "name": "python3"
  },
  "language_info": {
   "codemirror_mode": {
    "name": "ipython",
    "version": 3
   },
   "file_extension": ".py",
   "mimetype": "text/x-python",
   "name": "python",
   "nbconvert_exporter": "python",
   "pygments_lexer": "ipython3",
   "version": "3.9.12"
  }
 },
 "nbformat": 4,
 "nbformat_minor": 5
}
