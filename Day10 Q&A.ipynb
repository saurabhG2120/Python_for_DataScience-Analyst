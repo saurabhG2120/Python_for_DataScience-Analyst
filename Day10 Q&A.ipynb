{
 "cells": [
  {
   "cell_type": "markdown",
   "id": "c7ff124a",
   "metadata": {},
   "source": [
    "  Q.wra code that takes max and min limit from a user and print out  the even numer only with in provided range"
   ]
  },
  {
   "cell_type": "code",
   "execution_count": 1,
   "id": "5917ad5b",
   "metadata": {},
   "outputs": [
    {
     "name": "stdout",
     "output_type": "stream",
     "text": [
      "enter max number:80\n",
      "enter min number:2\n",
      "2\n",
      "4\n",
      "6\n",
      "8\n",
      "10\n",
      "12\n",
      "14\n",
      "16\n",
      "18\n",
      "20\n",
      "22\n",
      "24\n",
      "26\n",
      "28\n",
      "30\n",
      "32\n",
      "34\n",
      "36\n",
      "38\n",
      "40\n",
      "42\n",
      "44\n",
      "46\n",
      "48\n",
      "50\n",
      "52\n",
      "54\n",
      "56\n",
      "58\n",
      "60\n",
      "62\n",
      "64\n",
      "66\n",
      "68\n",
      "70\n",
      "72\n",
      "74\n",
      "76\n",
      "78\n",
      "80\n"
     ]
    }
   ],
   "source": [
    "max=int(input(\"enter max number:\"))\n",
    "min=int(input(\"enter min number:\"))\n",
    "for i in range(min,max+1):\n",
    "    if i%2==0:\n",
    "        print(i)\n",
    "    "
   ]
  },
  {
   "cell_type": "markdown",
   "id": "93100518",
   "metadata": {},
   "source": [
    "Q.remove 'o' from string below"
   ]
  },
  {
   "cell_type": "code",
   "execution_count": 1,
   "id": "4ac354ec",
   "metadata": {},
   "outputs": [
    {
     "data": {
      "text/plain": [
       "'Hello World'"
      ]
     },
     "execution_count": 1,
     "metadata": {},
     "output_type": "execute_result"
    }
   ],
   "source": [
    "str1='Hello World'\n",
    "str1"
   ]
  },
  {
   "cell_type": "code",
   "execution_count": 2,
   "id": "d26c6408",
   "metadata": {},
   "outputs": [
    {
     "data": {
      "text/plain": [
       "['__add__',\n",
       " '__class__',\n",
       " '__contains__',\n",
       " '__delattr__',\n",
       " '__dir__',\n",
       " '__doc__',\n",
       " '__eq__',\n",
       " '__format__',\n",
       " '__ge__',\n",
       " '__getattribute__',\n",
       " '__getitem__',\n",
       " '__getnewargs__',\n",
       " '__getstate__',\n",
       " '__gt__',\n",
       " '__hash__',\n",
       " '__init__',\n",
       " '__init_subclass__',\n",
       " '__iter__',\n",
       " '__le__',\n",
       " '__len__',\n",
       " '__lt__',\n",
       " '__mod__',\n",
       " '__mul__',\n",
       " '__ne__',\n",
       " '__new__',\n",
       " '__reduce__',\n",
       " '__reduce_ex__',\n",
       " '__repr__',\n",
       " '__rmod__',\n",
       " '__rmul__',\n",
       " '__setattr__',\n",
       " '__sizeof__',\n",
       " '__str__',\n",
       " '__subclasshook__',\n",
       " 'capitalize',\n",
       " 'casefold',\n",
       " 'center',\n",
       " 'count',\n",
       " 'encode',\n",
       " 'endswith',\n",
       " 'expandtabs',\n",
       " 'find',\n",
       " 'format',\n",
       " 'format_map',\n",
       " 'index',\n",
       " 'isalnum',\n",
       " 'isalpha',\n",
       " 'isascii',\n",
       " 'isdecimal',\n",
       " 'isdigit',\n",
       " 'isidentifier',\n",
       " 'islower',\n",
       " 'isnumeric',\n",
       " 'isprintable',\n",
       " 'isspace',\n",
       " 'istitle',\n",
       " 'isupper',\n",
       " 'join',\n",
       " 'ljust',\n",
       " 'lower',\n",
       " 'lstrip',\n",
       " 'maketrans',\n",
       " 'partition',\n",
       " 'removeprefix',\n",
       " 'removesuffix',\n",
       " 'replace',\n",
       " 'rfind',\n",
       " 'rindex',\n",
       " 'rjust',\n",
       " 'rpartition',\n",
       " 'rsplit',\n",
       " 'rstrip',\n",
       " 'split',\n",
       " 'splitlines',\n",
       " 'startswith',\n",
       " 'strip',\n",
       " 'swapcase',\n",
       " 'title',\n",
       " 'translate',\n",
       " 'upper',\n",
       " 'zfill']"
      ]
     },
     "execution_count": 2,
     "metadata": {},
     "output_type": "execute_result"
    }
   ],
   "source": [
    "dir(str1)"
   ]
  },
  {
   "cell_type": "code",
   "execution_count": 3,
   "id": "954cbd49",
   "metadata": {},
   "outputs": [],
   "source": [
    "str2=(str1.replace('o',''))"
   ]
  },
  {
   "cell_type": "code",
   "execution_count": 4,
   "id": "f462c164",
   "metadata": {},
   "outputs": [
    {
     "data": {
      "text/plain": [
       "'Hell Wrld'"
      ]
     },
     "execution_count": 4,
     "metadata": {},
     "output_type": "execute_result"
    }
   ],
   "source": [
    "str2"
   ]
  },
  {
   "cell_type": "code",
   "execution_count": 5,
   "id": "a2a608ea",
   "metadata": {},
   "outputs": [
    {
     "name": "stdout",
     "output_type": "stream",
     "text": [
      "H\n",
      "e\n",
      "l\n",
      "l\n",
      " \n",
      "W\n",
      "r\n",
      "l\n",
      "d\n"
     ]
    }
   ],
   "source": [
    "for i in str1:\n",
    "    if i=='o':\n",
    "        continue\n",
    "    print(i)"
   ]
  },
  {
   "cell_type": "code",
   "execution_count": null,
   "id": "e656a3c7",
   "metadata": {},
   "outputs": [],
   "source": []
  },
  {
   "cell_type": "raw",
   "id": "7d7cb18e",
   "metadata": {},
   "source": [
    "Q.convert celcius to fernite using list comprehension"
   ]
  },
  {
   "cell_type": "code",
   "execution_count": 6,
   "id": "17ee3add",
   "metadata": {},
   "outputs": [
    {
     "name": "stdout",
     "output_type": "stream",
     "text": [
      "enter temp in celcius35\n"
     ]
    },
    {
     "data": {
      "text/plain": [
       "(['35'], [95.0])"
      ]
     },
     "execution_count": 6,
     "metadata": {},
     "output_type": "execute_result"
    }
   ],
   "source": [
    "\n",
    "temp_c=(input('enter temp in celcius'))\n",
    "a=temp_c.split()\n",
    "temp_f=[(9/5*float(i)+32) for i in a]    \n",
    "a,temp_f"
   ]
  },
  {
   "cell_type": "code",
   "execution_count": 7,
   "id": "786edb67",
   "metadata": {},
   "outputs": [
    {
     "data": {
      "text/plain": [
       "list"
      ]
     },
     "execution_count": 7,
     "metadata": {},
     "output_type": "execute_result"
    }
   ],
   "source": [
    "type(a)"
   ]
  },
  {
   "cell_type": "code",
   "execution_count": 8,
   "id": "532dd7ea",
   "metadata": {},
   "outputs": [
    {
     "name": "stdout",
     "output_type": "stream",
     "text": [
      "Enter a list of temperatures in degC separated by a space:\n",
      "60 50 99\n",
      "Temperatures are degC Vs. Fehrenheit:\n",
      " [60, 50, 99] [140.0, 122.0, 210.20000000000002]\n"
     ]
    }
   ],
   "source": [
    "print('Enter a list of temperatures in degC separated by a space:')\n",
    "Temp_C = [int(x)                for x in input().split() ]\n",
    "\n",
    " \n",
    "\n",
    "Temp_F = [ ((float(9)/5)*i + 32)        for i in Temp_C            ]\n",
    "print('Temperatures are degC Vs. Fehrenheit:\\n', Temp_C, Temp_F)"
   ]
  },
  {
   "cell_type": "markdown",
   "id": "f0658770",
   "metadata": {},
   "source": [
    "CREATE A PASSWORD GENERATOR THAT TAKES THE REQUIRED PASSWORD LENGTH FROM THE USER AND GENERATE A PASSWORD. THE PASSWORD SHOULD BE A MIX OF CHARACTERS, NUMBERS AND SPECIAL CHARACTERS\n"
   ]
  },
  {
   "cell_type": "code",
   "execution_count": 11,
   "id": "b09e463f",
   "metadata": {},
   "outputs": [
    {
     "name": "stdout",
     "output_type": "stream",
     "text": [
      "enter legth of password required min 8:12\n",
      "please reenter password: ········\n",
      "L13Ck5Ye$vvR\n"
     ]
    }
   ],
   "source": [
    "import string\n",
    "import random\n",
    "import getpass\n",
    "a=string.ascii_letters+string.punctuation+string.digits\n",
    "length=int(input('enter legth of password required min 8:'))\n",
    "password=''\n",
    "if password != getpass.getpass('please reenter password: '):\n",
    "    if length>=8 :\n",
    "        for i in range( 0,length):\n",
    "            password=password+random.choice(a)\n",
    "        print(password)\n",
    "    "
   ]
  },
  {
   "cell_type": "code",
   "execution_count": 12,
   "id": "70ea1f6d",
   "metadata": {},
   "outputs": [
    {
     "data": {
      "text/plain": [
       "str"
      ]
     },
     "execution_count": 12,
     "metadata": {},
     "output_type": "execute_result"
    }
   ],
   "source": [
    "type(password)"
   ]
  },
  {
   "cell_type": "markdown",
   "id": "44b069eb",
   "metadata": {},
   "source": [
    "WRITE A CODE THAT TAKES STRING FROM A USER AND SORT THE WORDS AND PRINT ALL WORDS"
   ]
  },
  {
   "cell_type": "code",
   "execution_count": 13,
   "id": "17ceda99",
   "metadata": {},
   "outputs": [
    {
     "name": "stdout",
     "output_type": "stream",
     "text": [
      "enter wordssaurabh\n",
      "saurabh\n"
     ]
    }
   ],
   "source": [
    "a=input((\"enter words\"))\n",
    "b=a.split()\n",
    "b.sort()\n",
    "for i in b:\n",
    "    print(i)\n",
    "    "
   ]
  },
  {
   "cell_type": "code",
   "execution_count": 14,
   "id": "35d77406",
   "metadata": {},
   "outputs": [
    {
     "data": {
      "text/plain": [
       "['__add__',\n",
       " '__class__',\n",
       " '__contains__',\n",
       " '__delattr__',\n",
       " '__dir__',\n",
       " '__doc__',\n",
       " '__eq__',\n",
       " '__format__',\n",
       " '__ge__',\n",
       " '__getattribute__',\n",
       " '__getitem__',\n",
       " '__getnewargs__',\n",
       " '__getstate__',\n",
       " '__gt__',\n",
       " '__hash__',\n",
       " '__init__',\n",
       " '__init_subclass__',\n",
       " '__iter__',\n",
       " '__le__',\n",
       " '__len__',\n",
       " '__lt__',\n",
       " '__mod__',\n",
       " '__mul__',\n",
       " '__ne__',\n",
       " '__new__',\n",
       " '__reduce__',\n",
       " '__reduce_ex__',\n",
       " '__repr__',\n",
       " '__rmod__',\n",
       " '__rmul__',\n",
       " '__setattr__',\n",
       " '__sizeof__',\n",
       " '__str__',\n",
       " '__subclasshook__',\n",
       " 'capitalize',\n",
       " 'casefold',\n",
       " 'center',\n",
       " 'count',\n",
       " 'encode',\n",
       " 'endswith',\n",
       " 'expandtabs',\n",
       " 'find',\n",
       " 'format',\n",
       " 'format_map',\n",
       " 'index',\n",
       " 'isalnum',\n",
       " 'isalpha',\n",
       " 'isascii',\n",
       " 'isdecimal',\n",
       " 'isdigit',\n",
       " 'isidentifier',\n",
       " 'islower',\n",
       " 'isnumeric',\n",
       " 'isprintable',\n",
       " 'isspace',\n",
       " 'istitle',\n",
       " 'isupper',\n",
       " 'join',\n",
       " 'ljust',\n",
       " 'lower',\n",
       " 'lstrip',\n",
       " 'maketrans',\n",
       " 'partition',\n",
       " 'removeprefix',\n",
       " 'removesuffix',\n",
       " 'replace',\n",
       " 'rfind',\n",
       " 'rindex',\n",
       " 'rjust',\n",
       " 'rpartition',\n",
       " 'rsplit',\n",
       " 'rstrip',\n",
       " 'split',\n",
       " 'splitlines',\n",
       " 'startswith',\n",
       " 'strip',\n",
       " 'swapcase',\n",
       " 'title',\n",
       " 'translate',\n",
       " 'upper',\n",
       " 'zfill']"
      ]
     },
     "execution_count": 14,
     "metadata": {},
     "output_type": "execute_result"
    }
   ],
   "source": [
    "dir(a)"
   ]
  },
  {
   "cell_type": "markdown",
   "id": "06ba1b36",
   "metadata": {},
   "source": [
    "WRITE A CODE THAT TAKES A STRING AND CALCULATES THE NUMBER OF UPPER AND LOWER CASE CHARACTERS IN IT"
   ]
  },
  {
   "cell_type": "code",
   "execution_count": 15,
   "id": "56913141",
   "metadata": {},
   "outputs": [
    {
     "name": "stdout",
     "output_type": "stream",
     "text": [
      "enter stringsaurabh\n",
      "total lower case: 7\n",
      "total upper case: 0\n"
     ]
    }
   ],
   "source": [
    "a=input('enter string')\n",
    "lower=0\n",
    "upper=0\n",
    "for i in a:\n",
    "    if i.islower():\n",
    "        lower+=1\n",
    "    elif i.isupper():\n",
    "        upper+=1\n",
    "print(\"total lower case:\",lower)\n",
    "print(\"total upper case:\",upper)\n",
    "    "
   ]
  },
  {
   "cell_type": "code",
   "execution_count": 16,
   "id": "e33d477b",
   "metadata": {},
   "outputs": [
    {
     "name": "stdout",
     "output_type": "stream",
     "text": [
      "range(100, 900)566\n"
     ]
    },
    {
     "data": {
      "text/plain": [
       "566"
      ]
     },
     "execution_count": 16,
     "metadata": {},
     "output_type": "execute_result"
    }
   ],
   "source": [
    "(int(input(range(100,900))))"
   ]
  },
  {
   "cell_type": "markdown",
   "id": "dae7acdd",
   "metadata": {},
   "source": [
    "WRITE A CODE THAT TAKES A RANGE FROM 100 AND 900 AND ONLY PRINTS NUMBERS WHERE ALL DIGITS ARE EVEN"
   ]
  },
  {
   "cell_type": "code",
   "execution_count": 17,
   "id": "74b5fe17",
   "metadata": {},
   "outputs": [
    {
     "name": "stdout",
     "output_type": "stream",
     "text": [
      "enter no in range of 100-900 only566\n",
      "even\n"
     ]
    }
   ],
   "source": [
    "a=int(input(\"enter no in range of 100-900 only\"))\n",
    "if a in range(100,900+1):\n",
    "    if a%2==0:\n",
    "        print(\"even\")\n",
    "    else:\n",
    "        print(\"odd\")"
   ]
  },
  {
   "cell_type": "code",
   "execution_count": 4,
   "id": "f2c920ec",
   "metadata": {},
   "outputs": [],
   "source": [
    "\n",
    "def hundredtoninehundred():\n",
    "    if a in range(100,900+1):\n",
    "        if a%2==0:\n",
    "            print(\"even\")\n",
    "        else:\n",
    "            print(\"odd\")"
   ]
  },
  {
   "cell_type": "code",
   "execution_count": 11,
   "id": "a4b21c7c",
   "metadata": {},
   "outputs": [
    {
     "name": "stdout",
     "output_type": "stream",
     "text": [
      "enter no in range of 100-900 only900\n",
      "even\n"
     ]
    }
   ],
   "source": [
    "a=int(input(\"enter no in range of 100-900 only\"))\n",
    "hundredtoninehundred()"
   ]
  },
  {
   "cell_type": "code",
   "execution_count": null,
   "id": "3528efca",
   "metadata": {},
   "outputs": [],
   "source": []
  },
  {
   "cell_type": "code",
   "execution_count": null,
   "id": "cbd0794f",
   "metadata": {},
   "outputs": [],
   "source": []
  }
 ],
 "metadata": {
  "kernelspec": {
   "display_name": "Python 3 (ipykernel)",
   "language": "python",
   "name": "python3"
  },
  "language_info": {
   "codemirror_mode": {
    "name": "ipython",
    "version": 3
   },
   "file_extension": ".py",
   "mimetype": "text/x-python",
   "name": "python",
   "nbconvert_exporter": "python",
   "pygments_lexer": "ipython3",
   "version": "3.11.5"
  }
 },
 "nbformat": 4,
 "nbformat_minor": 5
}
