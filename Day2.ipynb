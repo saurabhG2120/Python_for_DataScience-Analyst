{
 "cells": [
  {
   "cell_type": "markdown",
   "id": "9ab4c42f",
   "metadata": {},
   "source": [
    "##Day2"
   ]
  },
  {
   "cell_type": "code",
   "execution_count": 10,
   "id": "9e8ea3d7",
   "metadata": {},
   "outputs": [],
   "source": [
    "name=\"Saurabh\"\n",
    "surname=\"Gavali\"\n"
   ]
  },
  {
   "cell_type": "code",
   "execution_count": 2,
   "id": "13f77881",
   "metadata": {},
   "outputs": [
    {
     "name": "stdout",
     "output_type": "stream",
     "text": [
      "Saurabh\n"
     ]
    }
   ],
   "source": [
    "print(name)"
   ]
  },
  {
   "cell_type": "code",
   "execution_count": 3,
   "id": "c906920c",
   "metadata": {},
   "outputs": [
    {
     "name": "stdout",
     "output_type": "stream",
     "text": [
      "welcome Saurabh Gavali to the python\n"
     ]
    }
   ],
   "source": [
    "print(\"welcome {} {} to the python\".format(name,surname)) #format isused to include variable value in print statement"
   ]
  },
  {
   "cell_type": "code",
   "execution_count": 11,
   "id": "6c51b806",
   "metadata": {},
   "outputs": [
    {
     "data": {
      "text/plain": [
       "'Saura'"
      ]
     },
     "execution_count": 11,
     "metadata": {},
     "output_type": "execute_result"
    }
   ],
   "source": [
    "name[0:4+1] #it will show the string from 0 to 4"
   ]
  },
  {
   "cell_type": "code",
   "execution_count": 5,
   "id": "e3537be7",
   "metadata": {},
   "outputs": [
    {
     "name": "stdout",
     "output_type": "stream",
     "text": [
      "value of pi= 3.142857142857143\n"
     ]
    }
   ],
   "source": [
    "print(\"value of pi=\",(22/7))"
   ]
  },
  {
   "cell_type": "code",
   "execution_count": 23,
   "id": "371e70e6",
   "metadata": {},
   "outputs": [
    {
     "name": "stdout",
     "output_type": "stream",
     "text": [
      "welcome Gavali Saurabh to the python\n"
     ]
    }
   ],
   "source": [
    "print(\"welcome {1} {0} to the python\".format(name,surname))"
   ]
  },
  {
   "cell_type": "code",
   "execution_count": 29,
   "id": "1e52f2ba",
   "metadata": {},
   "outputs": [
    {
     "name": "stdout",
     "output_type": "stream",
     "text": [
      "enter a number62\n",
      "enter a number55\n",
      "the sum of 62 and 55 is 117\n"
     ]
    }
   ],
   "source": [
    "a=int(input(\"enter a number\"))\n",
    "b=int(input(\"enter a number\"))\n",
    "print(\"the sum of {0} and {1} is\" .format(a,b),a+b)"
   ]
  },
  {
   "cell_type": "code",
   "execution_count": 32,
   "id": "507b8893",
   "metadata": {},
   "outputs": [
    {
     "name": "stdout",
     "output_type": "stream",
     "text": [
      "enter name:saurabh\n",
      "enter age:23\n",
      "enter address:mumbai\n",
      "my name is saurabh and age is 23 and i am from mumbai\n"
     ]
    }
   ],
   "source": [
    "name=input(\"enter name:\")\n",
    "age=int(input(\"enter age:\"))\n",
    "add=input(\"enter address:\")\n",
    "print(\"my name is {} and age is {} and i am from {}\".format(name,age,add))"
   ]
  },
  {
   "cell_type": "code",
   "execution_count": 33,
   "id": "4ebb8715",
   "metadata": {},
   "outputs": [
    {
     "data": {
      "text/plain": [
       "int"
      ]
     },
     "execution_count": 33,
     "metadata": {},
     "output_type": "execute_result"
    }
   ],
   "source": [
    "type(age)"
   ]
  },
  {
   "cell_type": "code",
   "execution_count": 36,
   "id": "57b8214b",
   "metadata": {},
   "outputs": [
    {
     "name": "stdout",
     "output_type": "stream",
     "text": [
      "enter speed in km:60\n",
      "speed in km/hr 60\n",
      "speed in mph 37.28\n",
      "the speed in km is 60 and in mph 37.28\n"
     ]
    }
   ],
   "source": [
    "km=int(input(\"enter speed in km:\"))\n",
    "mph=round(0.6214*km,2)\n",
    "print(\"speed in km/hr\",km)\n",
    "print(\"speed in mph\",mph)\n",
    "\n",
    "print(\"the speed in km is {} and in mph {}\".format(km,mph))"
   ]
  },
  {
   "cell_type": "code",
   "execution_count": 46,
   "id": "279f7325",
   "metadata": {},
   "outputs": [
    {
     "name": "stdout",
     "output_type": "stream",
     "text": [
      "enter 1 st integer10\n",
      "enter 2 nd integer20\n",
      "the sum of two integer 30 and multiplication of tow int is200)\n"
     ]
    }
   ],
   "source": [
    "a=int(input(\"enter 1 st integer\"))\n",
    "b=int(input(\"enter 2 nd integer\"))\n",
    "print(\"the sum of two integer {} and multiplication of tow int is{})\".format(a+b,a*b))"
   ]
  },
  {
   "cell_type": "code",
   "execution_count": null,
   "id": "eb88165f",
   "metadata": {},
   "outputs": [],
   "source": []
  },
  {
   "cell_type": "code",
   "execution_count": null,
   "id": "801fcdbe",
   "metadata": {},
   "outputs": [],
   "source": []
  }
 ],
 "metadata": {
  "kernelspec": {
   "display_name": "Python 3 (ipykernel)",
   "language": "python",
   "name": "python3"
  },
  "language_info": {
   "codemirror_mode": {
    "name": "ipython",
    "version": 3
   },
   "file_extension": ".py",
   "mimetype": "text/x-python",
   "name": "python",
   "nbconvert_exporter": "python",
   "pygments_lexer": "ipython3",
   "version": "3.12.0"
  }
 },
 "nbformat": 4,
 "nbformat_minor": 5
}
